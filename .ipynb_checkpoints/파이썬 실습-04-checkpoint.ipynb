{
 "cells": [
  {
   "cell_type": "markdown",
   "id": "cce9e2e5",
   "metadata": {},
   "source": [
    "# 리스트(List)"
   ]
  },
  {
   "cell_type": "code",
   "execution_count": 2,
   "id": "d4a76ebc",
   "metadata": {},
   "outputs": [
    {
     "name": "stdout",
     "output_type": "stream",
     "text": [
      "[1, 2, 3, 4, 5, 6, 7, 8, 9, 10, 11, 12, 13, 14, 15, 16, 17, 18, 19, 20, 21, 22, 23, 24, 25, 26, 27, 28, 29, 30, 31, 32, 33, 34, 35, 36, 37, 38, 39, 40, 41, 42, 43, 44, 45, 46, 47, 48, 49, 50, 51, 52, 53, 54, 55, 56, 57, 58, 59, 60, 61, 62, 63, 64, 65, 66, 67, 68, 69, 70, 71, 72, 73, 74, 75, 76, 77, 78, 79, 80, 81, 82, 83, 84, 85, 86, 87, 88, 89, 90, 91, 92, 93, 94, 95, 96, 97, 98, 99, 100]\n"
     ]
    }
   ],
   "source": [
    "# 비어있는 list선언\n",
    "a = []\n",
    "b = list()\n",
    "#특정값 넣는 list\n",
    "c = [1,2,3,4,5,6,7]\n",
    "d = list(range(1,101))\n",
    "print(d)"
   ]
  },
  {
   "cell_type": "code",
   "execution_count": 5,
   "id": "14d74cc2",
   "metadata": {},
   "outputs": [
    {
     "name": "stdout",
     "output_type": "stream",
     "text": [
      "[1, 2]\n",
      "[3, 4, 5, 6, 7]\n",
      "[1, 2, 3, 4, 5, 6, 7]\n"
     ]
    }
   ],
   "source": [
    "# 슬라이싱 [start:end:step]\n",
    "a = [1,2,3,4,5,6,7]\n",
    "b = a[:2] #변수명을 넣어줘야한다.\n",
    "print(b)\n",
    "c = a[2:]\n",
    "print(c)\n",
    "d = a[:]\n",
    "print(d)"
   ]
  },
  {
   "cell_type": "code",
   "execution_count": 13,
   "id": "6e7352c1",
   "metadata": {},
   "outputs": [
    {
     "name": "stdout",
     "output_type": "stream",
     "text": [
      "[1, 2, 20, 4, 5, 6, 7]\n",
      "[1, 2, 20, 4, 5, 6, 7]\n",
      "[200, 2, 20, 4, 5, 6, 7]\n",
      "True\n",
      "False\n",
      "a의 위치: 1986108619648\n",
      "b의 위치: 1986108619648\n",
      "c의 위치: 1986108113600\n"
     ]
    }
   ],
   "source": [
    "#얕은 복사 [ a의 값을 바꿔도 b의 값이 바뀐다. ]\n",
    "a = [1,2,3,4,5,6,7]\n",
    "b = a\n",
    "a[2] = 20\n",
    "print(b)\n",
    "\n",
    "#깊은복사 [ a의 값과는 달리 독립적으로 생성됨 ]\n",
    "c = a[:]\n",
    "c[0] = 200\n",
    "print(a)\n",
    "print(c)\n",
    "\n",
    "#같은 참조값인지 확인하는법\n",
    "print(a is b)\n",
    "print(a is c)\n",
    "\n",
    "#객체의 참조값\n",
    "print('a의 위치:' , id(a))\n",
    "print('b의 위치:' , id(b))\n",
    "print('c의 위치:' , id(c))"
   ]
  },
  {
   "cell_type": "code",
   "execution_count": 22,
   "id": "5c7a1850",
   "metadata": {},
   "outputs": [
    {
     "name": "stdout",
     "output_type": "stream",
     "text": [
      "[1, 2, 3, 4, 5, 6]\n",
      "[1, 2, 3, 1, 2, 3, 1, 2, 3]\n"
     ]
    }
   ],
   "source": [
    "#list의 연산: + (연결). * (반복)\n",
    "a = [1,2,3]\n",
    "b = [4,5,6]\n",
    "print(a+b)\n",
    "print(a*3)"
   ]
  },
  {
   "cell_type": "code",
   "execution_count": 25,
   "id": "ba41f44a",
   "metadata": {},
   "outputs": [
    {
     "name": "stdout",
     "output_type": "stream",
     "text": [
      "[1, 2, 30, 4, 5]\n",
      "[1, 5]\n",
      "[5]\n"
     ]
    }
   ],
   "source": [
    "#list의 원소 수정 및 삭제\n",
    "a = [1,2,3,4,5]\n",
    "a[2] = 30\n",
    "print(a)\n",
    "\n",
    "a[1:4] = [] # 지울때 사용\n",
    "print(a)\n",
    "a.remove(1) #매개변수의 값은 리스트 원소의 위치가 아니라 실제 값이다.\n",
    "print(a)"
   ]
  },
  {
   "cell_type": "markdown",
   "id": "73e488e0",
   "metadata": {},
   "source": [
    "## 리스트의 함수들"
   ]
  },
  {
   "cell_type": "code",
   "execution_count": 29,
   "id": "c767d357",
   "metadata": {},
   "outputs": [
    {
     "name": "stdout",
     "output_type": "stream",
     "text": [
      "[6, 10, 7, 3, 5, 1]\n"
     ]
    }
   ],
   "source": [
    "a = [1,5,3,7,10,6]\n",
    "b.sort(reverse=True) #sort() 함수는 리턴값을 갖지 않는다.\n",
    "#print(a.sort())\n",
    "print(a[::-1])"
   ]
  },
  {
   "cell_type": "markdown",
   "id": "f0bbe0cc",
   "metadata": {},
   "source": [
    "### 함수 사용용도"
   ]
  },
  {
   "cell_type": "code",
   "execution_count": 32,
   "id": "e58f6df7",
   "metadata": {},
   "outputs": [
    {
     "name": "stdout",
     "output_type": "stream",
     "text": [
      "9\n",
      "67\n",
      "1\n",
      "161\n",
      "17.88888888888889\n"
     ]
    }
   ],
   "source": [
    "a = [1,4,6,7,10,11,67,34,21]\n",
    "# 다음 함수는 리스트 객체의 함수가 아닌, 파이썬의 내장 함수\n",
    "print(len(a)) #길이\n",
    "print(max(a)) #최대\n",
    "print(min(a)) #최소\n",
    "print(sum(a)) #합\n",
    "print(sum(a)/ len(a)) #평균"
   ]
  },
  {
   "cell_type": "markdown",
   "id": "0e224115",
   "metadata": {},
   "source": [
    "### 입력받을때의 값으로 데이터출력"
   ]
  },
  {
   "cell_type": "code",
   "execution_count": 34,
   "id": "b8b1126b",
   "metadata": {},
   "outputs": [
    {
     "name": "stdout",
     "output_type": "stream",
     "text": [
      "결제를 하시겠습니까? u\n",
      "안녕히 가세요!\n"
     ]
    }
   ],
   "source": [
    "ans = input('결제를 하시겠습니까? ')\n",
    "if ans in ['yes','y','ok','네','예']:\n",
    "    print('구매해 주셔서 감사합니다.')\n",
    "else:\n",
    "    print('안녕히 가세요!')"
   ]
  },
  {
   "cell_type": "markdown",
   "id": "09993572",
   "metadata": {},
   "source": [
    "- [:} 와 deepcopy() 의 차이\n",
    ">- [:]를 이용한 깊은 복사는 서브 리스트까지 깊은 복사를 수행하지 않는다.\n",
    ">- 반면 deepcopy()함수는 모든 요소에 대한 깊은 복사를 수행한다."
   ]
  },
  {
   "cell_type": "code",
   "execution_count": 43,
   "id": "21cb8446",
   "metadata": {},
   "outputs": [
    {
     "name": "stdout",
     "output_type": "stream",
     "text": [
      "1986126586624\n",
      "1986126586624\n",
      "1986131261824\n",
      "1986126272640\n",
      "1986126262528\n"
     ]
    }
   ],
   "source": [
    "matrix = [[1,2,3],\n",
    "         [4,5,6],\n",
    "         [7,8,9]]\n",
    "copy_m1 = matrix[:]\n",
    "# 2중 리스트로 감쌀경우 내부의 값은 동일한 주소값을 가지지만 큰 틀은 다른 값을 가진다.\n",
    "print(id(copy_m1[0]))\n",
    "print(id(matrix[0]))\n",
    "\n",
    "import copy\n",
    "copy_m2 = copy.deepcopy(matrix)\n",
    "# 2중 리스트로 감쌀경우 내부의 값과 주소값을 새로 만들어진다.\n",
    "print(id(copy_m2[0]))\n",
    "print(id(copy_m2))\n",
    "print(id(matrix))"
   ]
  },
  {
   "cell_type": "markdown",
   "id": "4d7fba40",
   "metadata": {},
   "source": [
    "### 리스트 안의 배열값을 출력시키기"
   ]
  },
  {
   "cell_type": "code",
   "execution_count": 46,
   "id": "c1ac6f0c",
   "metadata": {},
   "outputs": [
    {
     "name": "stdout",
     "output_type": "stream",
     "text": [
      "1 2 3 \n",
      "4 5 \n",
      "6 7 8 9 \n"
     ]
    }
   ],
   "source": [
    "# 이중 리스트: 리스트의 요소로 리스트를 갖는 형태\n",
    "l = [[1,2,3],[4,5],[6,7,8,9]]\n",
    "for x in l:\n",
    "    for y in x:\n",
    "        print(y,end=' ')\n",
    "#     print()"
   ]
  },
  {
   "cell_type": "markdown",
   "id": "18da7190",
   "metadata": {},
   "source": [
    "## [문제] 성적 총점과 평균 구하기\n",
    "- 학생 3명의 성적에 대해 각각 총점과 평균을 구하고 전체 평균을 구하시오."
   ]
  },
  {
   "cell_type": "code",
   "execution_count": 74,
   "id": "e934c4b6",
   "metadata": {},
   "outputs": [
    {
     "name": "stdout",
     "output_type": "stream",
     "text": [
      "합계 :  358  평균 :  89.5\n",
      "합계 :  318  평균 :  79.5\n",
      "합계 :  329  평균 :  82.25\n",
      "합계 평균 : 335 ,전체평균 : 83.75  \n",
      "총평점:358, 평균:89.50\n",
      "총평점:318, 평균:79.50\n",
      "총평점:329, 평균:82.25\n",
      "전체평균:4.00\n"
     ]
    }
   ],
   "source": [
    "score = [[88,92,78,100],[56,78,88,96],[82,70,99,78]]\n",
    "hap=0;\n",
    "ave =0;\n",
    "for i in score:\n",
    "    hap += sum(i)\n",
    "    ave += sum(i)/len(i)\n",
    "    print('합계 : ',sum(i),' 평균 : ',sum(i)/len(i))\n",
    "print('합계 평균 : %d ,전체평균 : %.2f  '%(hap/3,ave/3))\n",
    "\n",
    "total = 0 #전체 과목의 합계\n",
    "all_subjects = 0 #전체 과목의 수\n",
    "for student in score:\n",
    "    print('총평점:%d, 평균:%.2f'%(sum(student), sum(student)/len(student)))\n",
    "    total += sum(student)\n",
    "    all_subjects += sum(student)/len(student)\n",
    "print('전체평균:%.2f'%(total/all_subjects))"
   ]
  },
  {
   "cell_type": "markdown",
   "id": "c802dc2a",
   "metadata": {},
   "source": [
    "## [문제] 일수 계산\n",
    "<pre>\n",
    "1~12월 중 입력 받은 월의 몇 일까지 있는지를 계산하는 프로그램을 작성하시오.\n",
    "\n",
    "[실행예시]\n",
    "년도를 입력하세요 : 2022\n",
    "월을 입력하세요 : 11\n",
    "2022년 11월은 30일까지 있습니다.\n",
    "\n",
    "[처리조건]\n",
    "윤년인 경우 2월은 29로 출력한다.\n",
    "</pre>"
   ]
  },
  {
   "cell_type": "code",
   "execution_count": 120,
   "id": "38caadf0",
   "metadata": {},
   "outputs": [
    {
     "name": "stdout",
     "output_type": "stream",
     "text": [
      "년도를 입력하세요 :2020\n",
      "월을 입력하세요 : 2\n",
      "2020년 2월은 29일까지 있습니다.\n",
      "2020년 2월은 29일까지 있습니다.\n"
     ]
    }
   ],
   "source": [
    "year = int(input('년도를 입력하세요 :'))\n",
    "men = int(input('월을 입력하세요 : '))\n",
    "dayslnMonth = [31,28,31,30,31,30,31,31,30,31,30,31]\n",
    "if year%4 == 0 and year % 100 != 0 or year % 400 == 0:\n",
    "    dayslnMonth1 = [31,29,31,30,31,30,31,31,30,31,30,31]\n",
    "    print('%d년 %d월은 %d일까지 있습니다.'%(year,men,dayslnMonth1[men-1]))\n",
    "else:\n",
    "#     dayslnMonth = [31,28,31,30,31,30,31,31,30,31,30,31]\n",
    "    print('%d년 %d월은 %d일까지 있습니다.'%(year,men,dayslnMonth[men-1]))\n",
    "\n",
    "#선생님코드\n",
    "days = 0\n",
    "if men ==2 :\n",
    "    days = 29 if ( year%4 == 0 and year % 100 != 0) or year % 400 == 0 else 28\n",
    "else:\n",
    "    days=dayslnMonth[men-1]\n",
    "print('%d년 %d월은 %d일까지 있습니다.'%(year,men,days))"
   ]
  },
  {
   "cell_type": "markdown",
   "id": "2c4ae4f2",
   "metadata": {},
   "source": [
    "# 딕셔너리(Dictionary)"
   ]
  },
  {
   "cell_type": "code",
   "execution_count": 125,
   "id": "9f69a0ad",
   "metadata": {},
   "outputs": [
    {
     "name": "stdout",
     "output_type": "stream",
     "text": [
      "{'name': '홍길동', 'phone': '01012345678', 'age': 29}\n",
      "홍길동\n",
      "서울시\n"
     ]
    }
   ],
   "source": [
    "a = dict() #a = {}\n",
    "a['name'] = '홍길동'\n",
    "a['phone']='01012345678'\n",
    "a['age']=29\n",
    "print(a)\n",
    "\n",
    "print(a['name'])\n",
    "# print(a['address'])\n",
    "print(a.get('address','서울시')) #값이 없으면 None 출력 값이 있으면 값 출력"
   ]
  },
  {
   "cell_type": "markdown",
   "id": "1e7af0fd",
   "metadata": {},
   "source": [
    "## 딕셔너리 활용법"
   ]
  },
  {
   "cell_type": "code",
   "execution_count": 131,
   "id": "cf323e82",
   "metadata": {},
   "outputs": [
    {
     "name": "stdout",
     "output_type": "stream",
     "text": [
      "name\n",
      "phone\n",
      "age\n",
      "--------------------\n",
      "홍길동\n",
      "01012345678\n",
      "29\n",
      "dict_items([('name', '홍길동'), ('phone', '01012345678'), ('age', 29)])\n",
      "--------------------\n",
      "name 홍길동\n",
      "phone 01012345678\n",
      "age 29\n"
     ]
    }
   ],
   "source": [
    "for key in a.keys():\n",
    "    print(key)\n",
    "print('-'*20)\n",
    "for value in a.values():\n",
    "    print(value)\n",
    "print(a.items())\n",
    "print('-'*20)\n",
    "for k,v in a.items():\n",
    "    print(k,v)"
   ]
  },
  {
   "cell_type": "code",
   "execution_count": 133,
   "id": "486a9a38",
   "metadata": {},
   "outputs": [
    {
     "name": "stdout",
     "output_type": "stream",
     "text": [
      "합계 : 352\n",
      "평균 : 88.0\n",
      "최고점 : 100\n"
     ]
    }
   ],
   "source": [
    "score = {'홍길동':88,'임꺽정':100,'손오공':88,'전우치':76}\n",
    "print('합계 :',sum(score.values()))\n",
    "print('평균 :',sum(score.values())/len(score))\n",
    "print('최고점 :',max(score.values()))"
   ]
  },
  {
   "cell_type": "markdown",
   "id": "5dfa4075",
   "metadata": {},
   "source": [
    "## [문제] 단어 빈도수 구하기\n",
    "-text 문장 안에 포함된 각 단어의 빈도수를 구하여 dictionary 형태로 결과를 출력하시오.\n",
    "-단어는 key가 되고 빈도수는 value가 된다."
   ]
  },
  {
   "cell_type": "code",
   "execution_count": 170,
   "id": "9356ef5e",
   "metadata": {},
   "outputs": [
    {
     "name": "stdout",
     "output_type": "stream",
     "text": [
      "{'i': 3, 'heard': 2, 'that': 3, \"you're\": 2, 'settled': 1, 'down': 1, 'you': 5, 'found': 1, 'a': 1, 'girl': 1, 'and': 1, 'married': 1, 'now': 1, 'your': 1, 'dreams': 1, 'came': 1, 'true': 1, 'guess': 1, 'she': 1, 'gave': 1, 'things,': 1, \"didn't\": 1, 'give': 1, 'to': 2, 'old': 1, 'friend,': 1, 'why': 1, 'are': 1, 'so': 1, 'shy?': 1, \"ain't\": 1, 'like': 1, 'hold': 1, 'back': 1, 'or': 1, 'hide': 1, 'from': 1, 'the': 1, 'light': 1}\n"
     ]
    }
   ],
   "source": [
    "text = \"\"\"I heard that you're settled down\n",
    "That you found a girl and you're married now\n",
    "I heard that your dreams came true\n",
    "Guess she gave you things, I didn't give to you\n",
    "Old friend, why are you so shy?\n",
    "Ain't like you to hold back or hide from the light\"\"\"\n",
    "\n",
    "word_list=text.lower().replace('\\n',' ').split() #한줄로 출력가능\n",
    "mydic ={}\n",
    "# 1차\n",
    "# for word in word_list:\n",
    "#     if word not in mydic:\n",
    "#         mydic[word] = 1\n",
    "#     else:\n",
    "#         mydic[word] += 1\n",
    "# print(mydic)\n",
    "# 2차\n",
    "# for word in word_list:\n",
    "#     mydic[word] = mydic.get(word,0) + 1 #get으로 불러들이면서 +1 하는 방법\n",
    "# print(mydic)\n",
    "#3차\n",
    "for word in word_list:\n",
    "    mydic[word] = word_list.count(word) #딕셔너리는 중복을 허용안하기에 사용가능 count를 누적시킴\n",
    "print(mydic)\n",
    "\n"
   ]
  },
  {
   "cell_type": "markdown",
   "id": "81a92e86",
   "metadata": {},
   "source": [
    "## Dictionary\n",
    "- {}기호 혹은 dict()를 이용해 생성\n",
    "- key:value의 쌍으로 이루어짐\n",
    "- key를 이용해 value를 얻음\n",
    "- 키 값이 반드시 문자열일 필요는 없고 변경 불가능한 데이터만 key가 된다.\n",
    "- 사전변수명[키] 형식으로 찾을 경우 찾는 키가 없으면 예외를 발생.\n",
    "- [get]함수는 키가 없을 때 예외를 발생하는 대신 None을 리턴"
   ]
  },
  {
   "cell_type": "markdown",
   "id": "f135a2cb",
   "metadata": {},
   "source": [
    "## Tuple\n",
    "- list와 기본적으로 동일\n",
    "- list는 [] 로 감싸지만 튜플은 ()로 감싼다. 그리고 immutable 데이터다 (개체값 변경불가다)\n",
    "- list는 그 값의 생성 , 삭제 , 수정이 가능하지만 tuple은 그 값을 바꿀수 없다.\n",
    "  리스트의 값은 변화가 가능하고 tuple의 항목값은 변화가 불가능.\n",
    " - tuple을 사용하는 이유는 내부 구조가 단순하고 읽는 속도가 빠름. 가볍고 빠르고 안전한 이유로 사용\n",
    " \n",
    " <pre>\n",
    " 예제\n",
    " t1 = ()\n",
    " t2 = (1,) #요소가 1개일 경우 끝에 ,\n",
    " t3 = (1,2,3)\n",
    " t4 =1,2,3   #값만 나열해도 튜플 생성 가능\n",
    " \n",
    " t5 =('a','b',('ab','cd'))\n",
    " t1 = (1,2,'a','b')\n",
    "\n",
    " </pre>"
   ]
  },
  {
   "cell_type": "markdown",
   "id": "530d1d8c",
   "metadata": {},
   "source": [
    "# 튜플(Tuple)"
   ]
  },
  {
   "cell_type": "code",
   "execution_count": 5,
   "id": "e9a33edb",
   "metadata": {},
   "outputs": [
    {
     "name": "stdout",
     "output_type": "stream",
     "text": [
      "1\n",
      "1\n",
      "(1,)\n",
      "<class 'int'>\n",
      "<class 'tuple'>\n",
      "(1, 2, 3, 4, 5, 6)\n"
     ]
    }
   ],
   "source": [
    "t1 = (1,2,3,4)\n",
    "print(t1[0])\n",
    "t2 = (1)\n",
    "t3 = (1,)\n",
    "print(t2)\n",
    "print(t3)\n",
    "print(type(t2))\n",
    "print(type(t3))\n",
    "#t1[1] = 20  튜플의 원소 값은 변경 불가능\n",
    "t4 = (5,6)\n",
    "print(t1+t4)"
   ]
  },
  {
   "cell_type": "markdown",
   "id": "b2f68839",
   "metadata": {},
   "source": [
    "## set (집합)\n",
    "- {},set,set()로 생성\n",
    "- 중복을 허용하지 않음.\n",
    "- 순서가 없다(Unordered)\n",
    "- 인덱싱으로 값을 얻을수 없다. (순서가 없기때문에) 리스트나 튜플로 변경 후 값 추출\n",
    "- 자료형의 중복을 제거하기 위해 사용\n",
    "- 교집합(&), 차집합(-), 합집합(|) 연산 가능\n",
    "<pre>\n",
    "add() 요소추가\n",
    "update() 수정\n",
    "remove() 삭제\n",
    "intersection() 교집합\n",
    "difference() 차집합\n",
    "union() 합집합\n",
    "\n",
    "</pre>"
   ]
  },
  {
   "cell_type": "code",
   "execution_count": 7,
   "id": "3940830f",
   "metadata": {},
   "outputs": [
    {
     "name": "stdout",
     "output_type": "stream",
     "text": [
      "{'t', 'o', 'h', 'y', 'P', 'l', 'H', 'n', ' ', 'e'}\n",
      "{'school', 'boy', 'book'}\n"
     ]
    }
   ],
   "source": [
    "print(set('Hello Python'))\n",
    "print(set({'boy':'소년','school':'학교','book':'책'})) #key값만 가져온다."
   ]
  },
  {
   "cell_type": "code",
   "execution_count": 11,
   "id": "717cae49",
   "metadata": {},
   "outputs": [
    {
     "name": "stdout",
     "output_type": "stream",
     "text": [
      "합집합: {1, 2, 3, 4, 5, 6, 7, 8}\n",
      "교집합: {5, 6}\n",
      "차집합: {1, 2, 3, 4}\n"
     ]
    }
   ],
   "source": [
    "a = {1,2,3,4,5,6}\n",
    "b = {5,6,7,8}\n",
    "print('합집합:',a.union(b)) #합집합 사용\n",
    "print('교집합:',a.intersection(b)) # 교집합\n",
    "print('차집합:',a.difference(b)) #차집합"
   ]
  },
  {
   "cell_type": "markdown",
   "id": "2e9c1545",
   "metadata": {},
   "source": [
    "## Comprehension\n",
    "- 하나 이상의 iterator로부터 python의 자료구조를 만드는 방법\n",
    "- 1) List comperhension\n",
    "-- append()이용\n",
    "-- range()를 이용\n",
    "-- [표현식 for 항목 in 순회 가능한 객체 ]\n",
    "-- [표현식 for 항목 in 순회 가능한 객체 if 조건 ]\n",
    "- 2) dictionary comprehension\n",
    "-- List comperhension과 같이 if, for ... 다중 절을 가질 수 있다.\n",
    "-- {키표현식: 값 표현식 for 표현식 in 순회가능한 객체}\n",
    "- 3) set comprehension\n",
    "-- {표현식 for 표현식 in 순회가능한 객체 }"
   ]
  }
 ],
 "metadata": {
  "kernelspec": {
   "display_name": "Python 3 (ipykernel)",
   "language": "python",
   "name": "python3"
  },
  "language_info": {
   "codemirror_mode": {
    "name": "ipython",
    "version": 3
   },
   "file_extension": ".py",
   "mimetype": "text/x-python",
   "name": "python",
   "nbconvert_exporter": "python",
   "pygments_lexer": "ipython3",
   "version": "3.9.12"
  },
  "toc": {
   "base_numbering": 1,
   "nav_menu": {},
   "number_sections": true,
   "sideBar": true,
   "skip_h1_title": false,
   "title_cell": "Table of Contents",
   "title_sidebar": "Contents",
   "toc_cell": false,
   "toc_position": {},
   "toc_section_display": true,
   "toc_window_display": true
  }
 },
 "nbformat": 4,
 "nbformat_minor": 5
}
