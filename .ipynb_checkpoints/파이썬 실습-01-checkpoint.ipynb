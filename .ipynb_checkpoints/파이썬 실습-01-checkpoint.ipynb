{
 "cells": [
  {
   "cell_type": "markdown",
   "id": "f4ed9705",
   "metadata": {},
   "source": [
    "# 1 Extension 설치하기\n",
    "- pip install jupyter_contrib_nbextensions && jupyter contrib nbextensions\n",
    "- jupyter nbextensions_configurator enable --user"
   ]
  },
  {
   "cell_type": "markdown",
   "id": "0a82223a",
   "metadata": {},
   "source": [
    "## 1.1 hello"
   ]
  },
  {
   "cell_type": "markdown",
   "id": "06f6aa31",
   "metadata": {},
   "source": [
    "<font color='red'>Hello Python<font>"
   ]
  },
  {
   "cell_type": "code",
   "execution_count": 6,
   "id": "5a40a9a1",
   "metadata": {
    "scrolled": false
   },
   "outputs": [
    {
     "name": "stdout",
     "output_type": "stream",
     "text": [
      "hello python\n"
     ]
    }
   ],
   "source": [
    "print('hello python')"
   ]
  },
  {
   "cell_type": "code",
   "execution_count": 3,
   "id": "a0f5dc4d",
   "metadata": {},
   "outputs": [
    {
     "data": {
      "text/plain": [
       "int"
      ]
     },
     "execution_count": 3,
     "metadata": {},
     "output_type": "execute_result"
    }
   ],
   "source": [
    "i=10\n",
    "type(i)"
   ]
  },
  {
   "cell_type": "code",
   "execution_count": 4,
   "id": "927b4037",
   "metadata": {},
   "outputs": [
    {
     "data": {
      "text/plain": [
       "str"
      ]
     },
     "execution_count": 4,
     "metadata": {},
     "output_type": "execute_result"
    }
   ],
   "source": [
    "s = 'abc'\n",
    "type(s)"
   ]
  },
  {
   "cell_type": "markdown",
   "id": "a098274c",
   "metadata": {},
   "source": [
    "# 연산자와 데이터"
   ]
  },
  {
   "cell_type": "code",
   "execution_count": 5,
   "id": "4709acaa",
   "metadata": {},
   "outputs": [
    {
     "name": "stdout",
     "output_type": "stream",
     "text": [
      "0.2857142857142857\n",
      "0\n",
      "45\n",
      "3\n"
     ]
    }
   ],
   "source": [
    "a = 10\n",
    "b = 35\n",
    "\n",
    "print(a/b)\n",
    "print(a//b)\n",
    "print(a+b)\n",
    "print(b//a)\n"
   ]
  },
  {
   "cell_type": "code",
   "execution_count": 14,
   "id": "8b2294b8",
   "metadata": {},
   "outputs": [
    {
     "name": "stdout",
     "output_type": "stream",
     "text": [
      "사과10\n"
     ]
    }
   ],
   "source": [
    "c = '사과'\n",
    "d = 10\n",
    "# 문자열로 바꾸고싶은경우 한줄로 정리를 해야한다. 여러줄일경우 처리불가\n",
    "print(c+str(d))"
   ]
  },
  {
   "cell_type": "code",
   "execution_count": 16,
   "id": "e588652a",
   "metadata": {},
   "outputs": [
    {
     "name": "stdout",
     "output_type": "stream",
     "text": [
      "하하하하하\n"
     ]
    }
   ],
   "source": [
    "# 문자열 반복: *\n",
    "e = '하'\n",
    "# 곱하기 연산자로 문자열 반복 가능\n",
    "print(e*5)"
   ]
  },
  {
   "cell_type": "code",
   "execution_count": 17,
   "id": "981aeb59",
   "metadata": {},
   "outputs": [
    {
     "name": "stdout",
     "output_type": "stream",
     "text": [
      "44738.875\n"
     ]
    }
   ],
   "source": [
    "#거듭제곱\n",
    "f = 35.5\n",
    "print(f ** 3)\n"
   ]
  },
  {
   "cell_type": "code",
   "execution_count": null,
   "id": "4602b216",
   "metadata": {},
   "outputs": [],
   "source": [
    "#파이썬 에는 증감연산자가 없다.\n",
    "i = 2\n",
    "# i++ "
   ]
  },
  {
   "cell_type": "code",
   "execution_count": 18,
   "id": "83dfe661",
   "metadata": {},
   "outputs": [
    {
     "name": "stdout",
     "output_type": "stream",
     "text": [
      "False\n",
      "True\n"
     ]
    }
   ],
   "source": [
    "#논리 연산\n",
    "x = True\n",
    "y = False\n",
    "print(x and y)\n",
    "print(x or y)"
   ]
  },
  {
   "cell_type": "markdown",
   "id": "784c1a9e",
   "metadata": {},
   "source": [
    "# 입력받을때 사용하는 공간"
   ]
  },
  {
   "cell_type": "code",
   "execution_count": 29,
   "id": "a0689efe",
   "metadata": {},
   "outputs": [
    {
     "name": "stdout",
     "output_type": "stream",
     "text": [
      "나이는? : 55\n"
     ]
    },
    {
     "data": {
      "text/plain": [
       "'55'"
      ]
     },
     "execution_count": 29,
     "metadata": {},
     "output_type": "execute_result"
    }
   ],
   "source": [
    "input('나이는? : ') #문자열              prompt= 이건 왜 사용하는가"
   ]
  },
  {
   "cell_type": "markdown",
   "id": "5fe10db9",
   "metadata": {},
   "source": [
    "sep = 각 문장 끝날때 뭘해주느냐 , end='\\n' = 문장이 끝날때 이 값을 추가시킨다"
   ]
  },
  {
   "cell_type": "code",
   "execution_count": 24,
   "id": "1f4f4fe4",
   "metadata": {},
   "outputs": [
    {
     "name": "stdout",
     "output_type": "stream",
     "text": [
      "True,False,10\n"
     ]
    }
   ],
   "source": [
    "print(x,y,a,sep=',',end='\\n')"
   ]
  },
  {
   "cell_type": "markdown",
   "id": "f77ab637",
   "metadata": {},
   "source": [
    "# 표준 입출력"
   ]
  },
  {
   "cell_type": "code",
   "execution_count": 26,
   "id": "11a17518",
   "metadata": {},
   "outputs": [
    {
     "name": "stdout",
     "output_type": "stream",
     "text": [
      "밑변의 길이: 10\n",
      "높이: 10\n",
      "10.0 10.0 넓이는: 100.0\n"
     ]
    }
   ],
   "source": [
    "a = float(input('밑변의 길이: '))\n",
    "b = float(input('높이: '))\n",
    "print(a,b,'넓이는:',a*b)"
   ]
  },
  {
   "cell_type": "code",
   "execution_count": 37,
   "id": "86c682ee",
   "metadata": {},
   "outputs": [
    {
     "name": "stdout",
     "output_type": "stream",
     "text": [
      "10 20\n",
      "10,20\n",
      "10 20\n"
     ]
    }
   ],
   "source": [
    "a = 10\n",
    "b = 20\n",
    "print(a,b)\n",
    "print(a,b,sep=',')\n",
    "print(a,end=' ') #기본값으로는 \\n이 들어가 있지만 빈 공간을 만듬으로써 공간을 만든다\n",
    "print(b)"
   ]
  },
  {
   "cell_type": "code",
   "execution_count": null,
   "id": "1665e65f",
   "metadata": {},
   "outputs": [],
   "source": [
    "import tensorflow as tf\n",
    "print(tf.__version__)\n",
    "print(k.__version__)"
   ]
  }
 ],
 "metadata": {
  "kernelspec": {
   "display_name": "Python 3 (ipykernel)",
   "language": "python",
   "name": "python3"
  },
  "language_info": {
   "codemirror_mode": {
    "name": "ipython",
    "version": 3
   },
   "file_extension": ".py",
   "mimetype": "text/x-python",
   "name": "python",
   "nbconvert_exporter": "python",
   "pygments_lexer": "ipython3",
   "version": "3.9.12"
  }
 },
 "nbformat": 4,
 "nbformat_minor": 5
}
