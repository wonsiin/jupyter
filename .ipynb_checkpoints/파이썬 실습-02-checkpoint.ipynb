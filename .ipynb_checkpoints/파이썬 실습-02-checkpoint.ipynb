{
 "cells": [
  {
   "cell_type": "markdown",
   "id": "b96736dd",
   "metadata": {},
   "source": [
    "# 제어문"
   ]
  },
  {
   "cell_type": "code",
   "execution_count": null,
   "id": "a21e1e2f",
   "metadata": {},
   "outputs": [],
   "source": []
  },
  {
   "cell_type": "code",
   "execution_count": 7,
   "id": "b3119ace",
   "metadata": {},
   "outputs": [
    {
     "name": "stdout",
     "output_type": "stream",
     "text": [
      "점수입력 : 75\n",
      "재시험\n"
     ]
    }
   ],
   "source": [
    "score = int(input('점수입력 : '))\n",
    "\n",
    "if score>= 90:\n",
    "    print('합격')\n",
    "elif 70<=score<90:\n",
    "    print('재시험')\n",
    "else:\n",
    "    print('불합격')"
   ]
  },
  {
   "cell_type": "code",
   "execution_count": 10,
   "id": "44f01022",
   "metadata": {},
   "outputs": [
    {
     "name": "stdout",
     "output_type": "stream",
     "text": [
      "문자열이 비어있지 않습니다\n"
     ]
    }
   ],
   "source": [
    "notEmptyString = 'test'\n",
    "if notEmptyString:\n",
    "    print('문자열이 비어있지 않습니다')\n",
    "else:\n",
    "    print('비어있습니다.')"
   ]
  },
  {
   "cell_type": "code",
   "execution_count": 8,
   "id": "75fa543c",
   "metadata": {},
   "outputs": [
    {
     "name": "stdout",
     "output_type": "stream",
     "text": [
      "짝수\n"
     ]
    }
   ],
   "source": [
    "i = 10\n",
    "#if not i%2:\n",
    "if i%2 == 0: #i%2의 값이 0이면(짝수) False이기때문에 not을 붙여서 true로 반전시킴\n",
    "    print('짝수')\n",
    "else:\n",
    "    print('홀수')"
   ]
  },
  {
   "cell_type": "markdown",
   "id": "8238493f",
   "metadata": {},
   "source": [
    "# [문제]화폐단위 계산\n",
    "<pre>\n",
    "사용자로부터 금액을 입력 받아 화폐의 개수를 출력하는 프로그램을 작성하시오.\n",
    "조건) 화폐의 종류: 만원 천원 백원 십원 (일원 단위는 절사)\n",
    "\n",
    "[실행 예]\n",
    "금액을 입력하세요 : 45630\n",
    "만원 : 4개\n",
    "천운 : 5개\n",
    "백원 : 6개\n",
    "십원 : 3개\n",
    "</pre>"
   ]
  },
  {
   "cell_type": "code",
   "execution_count": 31,
   "id": "834f08c3",
   "metadata": {},
   "outputs": [
    {
     "name": "stdout",
     "output_type": "stream",
     "text": [
      "금액을 입력하세요 : 55555\n",
      "만원 : 5 개\n",
      "천원 : 5 개\n",
      "백원 : 5 개\n",
      "십원 : 5 개\n"
     ]
    }
   ],
   "source": [
    "score = int(input('금액을 입력하세요 : '))\n",
    "만원 = score // 10000\n",
    "천원 = (score%10000) // 1000\n",
    "백원 = (score%1000)//100\n",
    "십원 = (score%100) // 10\n",
    "print('만원 :', 만원 ,'개')\n",
    "print('천원 :', 천원 , '개')\n",
    "print('백원 :', 백원 , '개')\n",
    "print('십원 :', 십원 , '개')"
   ]
  },
  {
   "cell_type": "markdown",
   "id": "50e79a75",
   "metadata": {},
   "source": [
    "# 삼항연산자 /공부필요"
   ]
  },
  {
   "cell_type": "code",
   "execution_count": 34,
   "id": "c0adc94a",
   "metadata": {},
   "outputs": [
    {
     "name": "stdout",
     "output_type": "stream",
     "text": [
      "a와 b는 같지 않다\n"
     ]
    }
   ],
   "source": [
    "a = 10\n",
    "b = 20\n",
    "result = 'a와 b는 같지 않다' if a != b else 'a와 b는 같다'\n",
    "print(result)"
   ]
  },
  {
   "cell_type": "markdown",
   "id": "68e34400",
   "metadata": {},
   "source": [
    "## [문제] 대도시 여부 판단\n",
    "<pre>\n",
    "[대도시 판단 조건]\n",
    "수도이면서 인구가 100만 이상인 도시\n",
    "또는 부자가 200만 이상인 도시\n",
    "\n",
    "[실행예시]\n",
    "수도입니까? (수도:1, 수도아님:0) 1\n",
    "인구 (단위:만) 150\n",
    "부자의 수 (단위:만) 50\n",
    "대도시 여부 : True\n",
    "</pre>"
   ]
  },
  {
   "cell_type": "code",
   "execution_count": 46,
   "id": "bcf6509a",
   "metadata": {},
   "outputs": [
    {
     "name": "stdout",
     "output_type": "stream",
     "text": [
      "수도입니까?(수도:1,수도아님:0) : 1\n",
      "인구를 적어주세요(단위:만) : 120\n",
      "부자의 수를 적어주세요(단위:만) : 10\n",
      "True\n"
     ]
    }
   ],
   "source": [
    "isCapital = int(input('수도입니까?(수도:1,수도아님:0) : '))\n",
    "citizens = int(input('인구를 적어주세요(단위:만) : '))\n",
    "riches = int(input('부자의 수를 적어주세요(단위:만) : '))\n",
    "\n",
    "metropolis = True if(isCapital == 1 and citizens >=100) or riches >=200 else False\n",
    "print(metropolis)"
   ]
  },
  {
   "cell_type": "markdown",
   "id": "b069e05e",
   "metadata": {},
   "source": [
    "# 반복문 상세내용\n",
    "\n",
    "## for\n",
    "<pre>\n",
    "for 변수 in 리스트(또는 튜플, 문자열):\n",
    "    수행문장1\n",
    "for 변수 in range(start, end, step):\n",
    "    수행문장1\n",
    "\n",
    "test_list['ont','two','trey']\n",
    "</pre>\n",
    "\n",
    "## range\n",
    "<pre>\n",
    "range(start , end, step) 이 존재 [end 는 -1까지다]\n",
    "range(10) -> end 값이므로 1~ 9까지의 값을 찾아줌\n",
    "range(2,11,2) -> 2의 짝수 값만 찾을수 있다.\n",
    "\n",
    "sum=0\n",
    "for i in range(1,11):\n",
    "    sum=sum + i\n",
    "    print(sum)\n",
    "</pre>\n",
    "\n",
    "## list (파이썬 스럽지 못함)\n",
    "<pre>\n",
    "for와 list (파이썬 스럽지 못한 코드)\n",
    "a = [1,2,3,4]\n",
    "result = []\n",
    "for num in a:\n",
    "    result.append(num*3)    append 는 값을 넣어주는 함수다 ( num의 값을 3배수로 다시 result로 넣어줌)\n",
    "print(rsult)\n",
    "</pre>\n",
    "\n",
    "## list (파이썬스러움)\n",
    "[표현식 for 변수 in 컬렉션 ] 컬렉션 값을 변수로 담아서 표현식이 변수를 가지고 처리한다.\n",
    "[표현식 for문 if문] for문이 먼저 실행 -> 값을 갖고온 후 if문 실행 -> if문 값을 표현식으로 처리\n",
    "[표현식 for문 for문] 가운데 for문 실행 -> 끝 for문 실행 -> 표현식이 처리\n",
    "<pre>\n",
    "a=[1,2,3,4]\n",
    "result = [num * 3 for num in a]\n",
    "print[result]\n",
    "\n",
    "a=[1,2,3,4]\n",
    "result = [num * 3 for num in a if num % 2 ==0 ]\n",
    "print(result)\n",
    "\n",
    "result = [x*y for x in range(2,10) for y in range(1,10)]\n",
    "print(result)\n",
    "</pre>"
   ]
  },
  {
   "cell_type": "markdown",
   "id": "93271ee0",
   "metadata": {},
   "source": [
    "# 반복문실습"
   ]
  },
  {
   "cell_type": "code",
   "execution_count": 49,
   "id": "fdb06dcb",
   "metadata": {},
   "outputs": [
    {
     "name": "stdout",
     "output_type": "stream",
     "text": [
      "1 2 3 4 5 End\n"
     ]
    }
   ],
   "source": [
    "c = 1\n",
    "while c <= 5:\n",
    "    print(c, end=' ')\n",
    "    c += 1\n",
    "#end를 사용함으로써 옆으로 출력이 나옴\n",
    "print('End')"
   ]
  },
  {
   "cell_type": "code",
   "execution_count": 50,
   "id": "deb7bdc6",
   "metadata": {},
   "outputs": [
    {
     "name": "stdout",
     "output_type": "stream",
     "text": [
      "55\n"
     ]
    }
   ],
   "source": [
    "sum = 0\n",
    "#sum 은 변수\n",
    "for i in range(1, 11):\n",
    "#i 는 변수명\n",
    "    sum += i\n",
    "print(sum)"
   ]
  },
  {
   "cell_type": "markdown",
   "id": "ccb221ed",
   "metadata": {},
   "source": [
    "## 반복문 문자(타자형[무한반복] 특정값 입력시 종료)"
   ]
  },
  {
   "cell_type": "code",
   "execution_count": 51,
   "id": "c7b904a9",
   "metadata": {},
   "outputs": [
    {
     "name": "stdout",
     "output_type": "stream",
     "text": [
      "영어 단어를 입력하세요(종료:q) : w\n",
      "W\n",
      "영어 단어를 입력하세요(종료:q) : w\n",
      "W\n",
      "영어 단어를 입력하세요(종료:q) : s\n",
      "S\n",
      "영어 단어를 입력하세요(종료:q) : q\n",
      "End\n"
     ]
    }
   ],
   "source": [
    "while True:\n",
    "    s = input('영어 단어를 입력하세요(종료:q) : ')\n",
    "    if s == 'q' : break\n",
    "    print(s.upper())\n",
    "print('End')"
   ]
  },
  {
   "cell_type": "code",
   "execution_count": 58,
   "id": "a9c8f2ea",
   "metadata": {},
   "outputs": [
    {
     "name": "stdout",
     "output_type": "stream",
     "text": [
      "a,b,c,d,e,f,\b\n"
     ]
    }
   ],
   "source": [
    "for s in 'abcdef':\n",
    "    print(s, end=',')\n",
    "print('\\b') # \\b는 마지막 문자열을 지운다.\n",
    "    # 출력이 옆으로찍힘\n",
    "#     print(s, sep=',') # 출력이 아래로찍힘"
   ]
  },
  {
   "cell_type": "code",
   "execution_count": 59,
   "id": "4576bb71",
   "metadata": {},
   "outputs": [
    {
     "name": "stdout",
     "output_type": "stream",
     "text": [
      "[3, 6, 9, 12]\n"
     ]
    }
   ],
   "source": [
    "a = [1,2,3,4] #a는 list객체 (list : 동일한 데이터 타입의 집합이다)\n",
    "result =[]\n",
    "for i in a:\n",
    "    result.append(i*3) #append() 는 리스트 객체에 요소 값을 추가하는 함수( update 느낌이 남 )\n",
    "print(result)"
   ]
  },
  {
   "cell_type": "markdown",
   "id": "0a2d449d",
   "metadata": {},
   "source": [
    "## list comprehension **"
   ]
  },
  {
   "cell_type": "code",
   "execution_count": 61,
   "id": "586aab4a",
   "metadata": {},
   "outputs": [
    {
     "name": "stdout",
     "output_type": "stream",
     "text": [
      "[3, 6, 9, 12]\n"
     ]
    }
   ],
   "source": [
    "a = [1,2,3,4]\n",
    "result = [ i*3 for i in a]\n",
    "print(result)"
   ]
  },
  {
   "cell_type": "markdown",
   "id": "e779c692",
   "metadata": {},
   "source": [
    "## list comprehension with if **"
   ]
  },
  {
   "cell_type": "code",
   "execution_count": 63,
   "id": "93747918",
   "metadata": {},
   "outputs": [
    {
     "name": "stdout",
     "output_type": "stream",
     "text": [
      "[6, 12]\n"
     ]
    }
   ],
   "source": [
    "a=[1,2,3,4]\n",
    "#for 문 먼저 적고 if 문 적고 표현식을 적어라\n",
    "result = [ i*3 for i in a if not i%2 ]\n",
    "print(result)"
   ]
  },
  {
   "cell_type": "markdown",
   "id": "2d21d572",
   "metadata": {},
   "source": [
    "## while ~ else / for ~ else\n",
    "- ~ 표시는 마크다운에서 취소를 표시함\n",
    "- 강조를 하고싶은경우 ` `(~) 를 사용해서 `break` 처럼\n",
    "- **볼딩처리** **로 감싸면서 사용\n",
    "- **반복문이** `break` 등으로 중간에 빠져나오지 않고 끝까지 실행 됬을 경우 `else` 문이 실행된다. **"
   ]
  },
  {
   "cell_type": "code",
   "execution_count": 71,
   "id": "346600b2",
   "metadata": {},
   "outputs": [
    {
     "name": "stdout",
     "output_type": "stream",
     "text": [
      "검색 키워드를 입력하세요 : java\n",
      "검색 결과 : java\n"
     ]
    }
   ],
   "source": [
    "key_word = input('검색 키워드를 입력하세요 : ')\n",
    "word_list=['java','python','c++','pascal']\n",
    "find = False #없을 경우를 대비해 만들어둔다.\n",
    "for w in word_list:\n",
    "    if key_word == w:\n",
    "        print('검색 결과 :' , w)\n",
    "        find = True\n",
    "        break\n",
    "else:print('검색 결과가 없습니다.')\n",
    "# if not find:print('검색 결과가 없습니다.')"
   ]
  },
  {
   "cell_type": "markdown",
   "id": "126bfe16",
   "metadata": {},
   "source": [
    "## [문제] ----------+---------+----------+----------+ 문자열 만들기"
   ]
  },
  {
   "cell_type": "code",
   "execution_count": 83,
   "id": "7ea6c244",
   "metadata": {},
   "outputs": [
    {
     "name": "stdout",
     "output_type": "stream",
     "text": [
      "---------+---------+---------+---------+---------+"
     ]
    }
   ],
   "source": [
    "# key1 = 4\n",
    "# for i in key1:\n",
    "#     for j in i:\n",
    "#         print(str('--'),end='')\n",
    "#     else:\n",
    "#         print(str('+'),end='')\n",
    "\n",
    "for i in range(5):\n",
    "    print('-'*9,end='')\n",
    "    print('+',end='')"
   ]
  },
  {
   "cell_type": "markdown",
   "id": "d0497a0d",
   "metadata": {},
   "source": [
    "## [문제] 연도를 입력 받아 윤년인지 판단하는 프로그램을 작성하시오.\n",
    "<pre>\n",
    "프로그램은 무한반복적으로 시행되며, 0을 입력 받으면 프로그램을 종료한다.\n",
    "운년조건 : 4로 나누어 떨어지고, 100으로 나누어 떨어지지 않는 해. 또는 400으로 나누어 떨어지는 해\n",
    "[실행 예]\n",
    "연도를 입력하세요(종료:0):2020\n",
    "2020년도는 윤년 입니다.\n",
    "\n",
    "연도를 입력하세요(종료:0):2021\n",
    "2021년도는 평년 입니다.\n",
    "</pre>"
   ]
  },
  {
   "cell_type": "code",
   "execution_count": 121,
   "id": "8f73bea9",
   "metadata": {},
   "outputs": [
    {
     "name": "stdout",
     "output_type": "stream",
     "text": [
      "연도를 입력하세요(종료:0): 0\n"
     ]
    }
   ],
   "source": [
    "while True:\n",
    "    year = int(input('연도를 입력하세요(종료:0): '))\n",
    "    if year == 0:break\n",
    "    leap_year = '윤년' if (year % 4==0 and year % 100 !=0) or year % 400 == 0 else '평년'\n",
    "    print(year,'년도는',leap_year,'입니다.')"
   ]
  },
  {
   "cell_type": "markdown",
   "id": "d5a160f3",
   "metadata": {},
   "source": [
    "## [문제] BMI 측정 프로그램\n",
    "<pre>\n",
    "키와 몸무게를 입력받아 BMI 측정 결과를 출력한는 프로그램을 작성하시오.\n",
    "[ BMI 계산식 ]\n",
    "몸무게(kg) / 키(m)의 제곱\n",
    "18.5 미만 : 저체중\n",
    "18.5 ~ 22.9 : 정상체중\n",
    "23 ~ 29.9 : 비만 1단계\n",
    "29.9초과 : 비만 2단계\n",
    "\n",
    "[실행예시]\n",
    "키를 입력하세요(cm): 170\n",
    "몸무게를 입력하세요(kg) : 85\n",
    "당신의 BMI는 비만1단꼐 입니다.\n",
    "</pre>"
   ]
  },
  {
   "cell_type": "code",
   "execution_count": 147,
   "id": "5dcf8edc",
   "metadata": {},
   "outputs": [
    {
     "name": "stdout",
     "output_type": "stream",
     "text": [
      "키를 입력하세요(cm) : 180\n",
      "몸무게를 입력하세요(kg) : 70\n",
      "21.604938271604937 정상체중\n"
     ]
    }
   ],
   "source": [
    "ki=int(input('키를 입력하세요(cm) : '))\n",
    "mom = int(input('몸무게를 입력하세요(kg) : '))\n",
    "result = mom / ((ki/100) ** 2)\n",
    "if(result < 18.5):\n",
    "    print(result,'저체중')\n",
    "elif(18.5 <= result <= 22.9):\n",
    "    print(result,'정상체중')\n",
    "elif(23 <= result <= 29.9):\n",
    "    print(result,'비만1단계')\n",
    "else:\n",
    "    print(result,'비만2단계')\n",
    "    "
   ]
  }
 ],
 "metadata": {
  "kernelspec": {
   "display_name": "Python 3 (ipykernel)",
   "language": "python",
   "name": "python3"
  },
  "language_info": {
   "codemirror_mode": {
    "name": "ipython",
    "version": 3
   },
   "file_extension": ".py",
   "mimetype": "text/x-python",
   "name": "python",
   "nbconvert_exporter": "python",
   "pygments_lexer": "ipython3",
   "version": "3.9.12"
  },
  "toc": {
   "base_numbering": 1,
   "nav_menu": {},
   "number_sections": true,
   "sideBar": true,
   "skip_h1_title": false,
   "title_cell": "Table of Contents",
   "title_sidebar": "Contents",
   "toc_cell": false,
   "toc_position": {
    "height": "calc(100% - 180px)",
    "left": "10px",
    "top": "150px",
    "width": "331.818px"
   },
   "toc_section_display": true,
   "toc_window_display": true
  }
 },
 "nbformat": 4,
 "nbformat_minor": 5
}
