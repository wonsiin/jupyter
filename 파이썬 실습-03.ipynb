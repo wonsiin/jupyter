{
 "cells": [
  {
   "cell_type": "markdown",
   "id": "6aacaabe",
   "metadata": {},
   "source": [
    "# 문자열 처리"
   ]
  },
  {
   "cell_type": "code",
   "execution_count": 3,
   "id": "0de7c897",
   "metadata": {},
   "outputs": [
    {
     "name": "stdout",
     "output_type": "stream",
     "text": [
      "땡\n",
      "학\n",
      "교\n",
      "종\n",
      "이\n",
      " \n",
      "땡\n",
      "땡\n",
      "땡\n"
     ]
    }
   ],
   "source": [
    "s = '학교종이 땡땡땡'\n",
    "len(s)\n",
    "print(s[0])\n",
    "print(s[-1])\n",
    "# s[1] = '원'\n",
    "#객체값을 바꿀수 없다.\n",
    "for i in s:\n",
    "    print(i)"
   ]
  },
  {
   "cell_type": "code",
   "execution_count": null,
   "id": "35749d53",
   "metadata": {},
   "outputs": [],
   "source": [
    "s = '''동해물과 백두산이 마르고 닭도록 \n",
    "하느님이 보우하나 우리나라 만세 \n",
    "무궁화 삼천리 화려강산 \n",
    "대한사람 대한으로 길이 보전하세'''\n",
    "print(s)"
   ]
  },
  {
   "cell_type": "code",
   "execution_count": 10,
   "id": "0f49c63a",
   "metadata": {},
   "outputs": [
    {
     "name": "stdout",
     "output_type": "stream",
     "text": [
      "I say \"help\" to you\n"
     ]
    }
   ],
   "source": [
    "s = 'I say \"help\" to you'\n",
    "print(s)"
   ]
  },
  {
   "cell_type": "markdown",
   "id": "276e252d",
   "metadata": {},
   "source": [
    "## 파일이름 슬라이스\n",
    "<pre>\n",
    "* 파일이름 : 20221103-134211.jpg\n",
    "[출력결과]\n",
    "촬영날짜 : 2022년 11월 03일\n",
    "촬영시간 : 13시 42분 11초\n",
    "확장자 : jpg\n",
    "[참고] 문자열 슬라이싱 : 문자열변수 [start : end: step]\n",
    "</pre>"
   ]
  },
  {
   "cell_type": "code",
   "execution_count": 39,
   "id": "dd5b301b",
   "metadata": {},
   "outputs": [
    {
     "name": "stdout",
     "output_type": "stream",
     "text": [
      "촬영날짜 : 2022 년 11 월 03 일\n",
      "촬영시간 : 13 시 42 분 11 초\n",
      "확장자 :  jpg\n"
     ]
    }
   ],
   "source": [
    "s = '202211030134211.jpg'\n",
    "s1 = s[0:4]\n",
    "s2 = s[4:6]\n",
    "s3 = s[6:8]\n",
    "s4 = s[9:11]\n",
    "s5 = s[11:13]\n",
    "s6 = s[13:15]\n",
    "# s7 = s[16:19]\n",
    "s7 = s[-3:]\n",
    "\n",
    "print('촬영날짜 :', s1,'년',s2,'월',s3,'일')\n",
    "print('촬영시간 :', s4,'시',s5,'분',s6,'초')\n",
    "print('확장자 : ', s7)"
   ]
  },
  {
   "cell_type": "markdown",
   "id": "ebfde072",
   "metadata": {},
   "source": [
    "## 문자열 뒤집기"
   ]
  },
  {
   "cell_type": "code",
   "execution_count": 40,
   "id": "cef37ebc",
   "metadata": {},
   "outputs": [
    {
     "name": "stdout",
     "output_type": "stream",
     "text": [
      "olleh\n"
     ]
    }
   ],
   "source": [
    "#문자열 뒤집기\n",
    "s = 'hello' #olleh 로 출력\n",
    "print(s[::-1]) #뒤에서 읽을때 사용"
   ]
  },
  {
   "cell_type": "markdown",
   "id": "6ae3f72c",
   "metadata": {},
   "source": [
    "# 문자열 함수"
   ]
  },
  {
   "cell_type": "code",
   "execution_count": 44,
   "id": "86cb5462",
   "metadata": {},
   "outputs": [
    {
     "name": "stdout",
     "output_type": "stream",
     "text": [
      "9\n",
      "abcd\n"
     ]
    }
   ],
   "source": [
    "a = ['a','b','c','d']\n",
    "print(''.join(a))\n",
    "s ='''생각이란 생각할수록 생각나므로\n",
    "생각하지 말아야 할 생각은 생각하지 않으려고 하는 생각이\n",
    "옳은 생각이라고 생각합니다.'''\n",
    "print(s.count('생각'))"
   ]
  },
  {
   "cell_type": "code",
   "execution_count": 46,
   "id": "7c07df2e",
   "metadata": {},
   "outputs": [
    {
     "name": "stdout",
     "output_type": "stream",
     "text": [
      "True\n",
      "False\n"
     ]
    }
   ],
   "source": [
    "s = 'python programming'\n",
    "print('a' in s)\n",
    "print('z' in s)"
   ]
  },
  {
   "cell_type": "markdown",
   "id": "4919f932",
   "metadata": {},
   "source": [
    "## string 을 list로\n",
    "### 중간 문자열 구분자 삭제"
   ]
  },
  {
   "cell_type": "code",
   "execution_count": 48,
   "id": "5c5b2876",
   "metadata": {},
   "outputs": [
    {
     "name": "stdout",
     "output_type": "stream",
     "text": [
      "['짜장', '짬뽕', '탕수육']\n",
      "['서울', '대전', '대구', '부산']\n"
     ]
    }
   ],
   "source": [
    "s='짜장 짬뽕 탕수육'\n",
    "print(s.split())\n",
    "s='서울->대전->대구->부산'\n",
    "print(s.split('->'))"
   ]
  },
  {
   "cell_type": "code",
   "execution_count": 50,
   "id": "b4b6deb8",
   "metadata": {},
   "outputs": [
    {
     "name": "stdout",
     "output_type": "stream",
     "text": [
      "서울,대전,대구,부산\n"
     ]
    }
   ],
   "source": [
    "city_list = ['서울', '대전', '대구', '부산']\n",
    "city_string = ','.join(city_list)\n",
    "print(city_string)"
   ]
  },
  {
   "cell_type": "code",
   "execution_count": 53,
   "id": "1763bb04",
   "metadata": {},
   "outputs": [
    {
     "name": "stdout",
     "output_type": "stream",
     "text": [
      "대-한-민-국\n"
     ]
    }
   ],
   "source": [
    "s = '대한민국'\n",
    "print('-'.join(s))"
   ]
  },
  {
   "cell_type": "code",
   "execution_count": 74,
   "id": "153d1c11",
   "metadata": {},
   "outputs": [
    {
     "name": "stdout",
     "output_type": "stream",
     "text": [
      "###123###\n",
      "###  123###\n",
      "###       123###\n",
      "###123###\n",
      "  3.141593\n",
      "3.14159265\n",
      "   3.14159\n",
      "      3.14\n",
      "이름:한결,나이:16,키:162.5\n",
      "이름:한결,나이:16,키:162.5\n"
     ]
    },
    {
     "ename": "KeyError",
     "evalue": "'name'",
     "output_type": "error",
     "traceback": [
      "\u001b[1;31m---------------------------------------------------------------------------\u001b[0m",
      "\u001b[1;31mKeyError\u001b[0m                                  Traceback (most recent call last)",
      "Input \u001b[1;32mIn [74]\u001b[0m, in \u001b[0;36m<cell line: 17>\u001b[1;34m()\u001b[0m\n\u001b[0;32m     15\u001b[0m \u001b[38;5;28mprint\u001b[39m(\u001b[38;5;124m'\u001b[39m\u001b[38;5;124m이름:\u001b[39m\u001b[38;5;132;01m{}\u001b[39;00m\u001b[38;5;124m,나이:\u001b[39m\u001b[38;5;132;01m{}\u001b[39;00m\u001b[38;5;124m,키:\u001b[39m\u001b[38;5;132;01m{}\u001b[39;00m\u001b[38;5;124m'\u001b[39m\u001b[38;5;241m.\u001b[39mformat(name,age,height))\n\u001b[0;32m     16\u001b[0m \u001b[38;5;28mprint\u001b[39m(\u001b[38;5;124m'\u001b[39m\u001b[38;5;124m이름:\u001b[39m\u001b[38;5;132;01m{0}\u001b[39;00m\u001b[38;5;124m,나이:\u001b[39m\u001b[38;5;132;01m{1}\u001b[39;00m\u001b[38;5;124m,키:\u001b[39m\u001b[38;5;132;01m{2}\u001b[39;00m\u001b[38;5;124m'\u001b[39m\u001b[38;5;241m.\u001b[39mformat(name,age,height))\n\u001b[1;32m---> 17\u001b[0m \u001b[38;5;28mprint\u001b[39m(\u001b[38;5;124;43m'\u001b[39;49m\u001b[38;5;124;43m이름:\u001b[39;49m\u001b[38;5;132;43;01m{name}\u001b[39;49;00m\u001b[38;5;124;43m,나이:\u001b[39;49m\u001b[38;5;132;43;01m{age}\u001b[39;49;00m\u001b[38;5;124;43m,키:\u001b[39;49m\u001b[38;5;132;43;01m{height}\u001b[39;49;00m\u001b[38;5;124;43m'\u001b[39;49m\u001b[38;5;241;43m.\u001b[39;49m\u001b[43mformat\u001b[49m\u001b[43m(\u001b[49m\u001b[43mname\u001b[49m\u001b[43m,\u001b[49m\u001b[43mage\u001b[49m\u001b[43m,\u001b[49m\u001b[43mheight\u001b[49m\u001b[43m)\u001b[49m)\n",
      "\u001b[1;31mKeyError\u001b[0m: 'name'"
     ]
    }
   ],
   "source": [
    "value = 123\n",
    "print('###%d###' % value)\n",
    "print('###%5d###' % value)\n",
    "print('###%10d###' % value)\n",
    "print('###%1d###' % value) #값이 적게 들어가도 짤리진 않는다.\n",
    "pie=3.14159265\n",
    "print('%10f' % pie)\n",
    "print('%10.8f' % pie)\n",
    "print('%10.5f' % pie)\n",
    "print('%10.2f' % pie)\n",
    "\n",
    "name='한결'\n",
    "age=16\n",
    "height = 162.5\n",
    "print('이름:{},나이:{},키:{}'.format(name,age,height))\n",
    "print('이름:{0},나이:{1},키:{2}'.format(name,age,height))\n",
    "print('이름:{name},나이:{age},키:{height}'.format(name,age,height))\n",
    "#파라미터의 값으로 만들수있음.\n",
    "#'이름{name},나이{age}'.format(name='홍길동',age=25)\n",
    "#괄호 안에 0부터 시작하는 순서 값을 지정할수 있다. 위치가 달라도 위치값으로 넣을수있음."
   ]
  },
  {
   "cell_type": "markdown",
   "id": "b0b1ef64",
   "metadata": {},
   "source": [
    "## 문자열 대입 사용 [%d, %s ..]"
   ]
  },
  {
   "cell_type": "code",
   "execution_count": 66,
   "id": "692d4642",
   "metadata": {},
   "outputs": [
    {
     "name": "stdout",
     "output_type": "stream",
     "text": [
      "나는 사과 3개를 먹었다.\n",
      "나는 사과 다섯개를 먹었다.\n",
      "나는 사과 95%를 먹었다.\n"
     ]
    }
   ],
   "source": [
    "s='나는 사과 %d개를 먹었다.'%3\n",
    "print(s)\n",
    "print('나는 사과 %s개를 먹었다.'%'다섯')\n",
    "print('나는 사과 %d%%를 먹었다.'%95)"
   ]
  },
  {
   "cell_type": "code",
   "execution_count": 69,
   "id": "5838a998",
   "metadata": {},
   "outputs": [
    {
     "name": "stdout",
     "output_type": "stream",
     "text": [
      "8월 15일은 광복절이다.\n"
     ]
    }
   ],
   "source": [
    "month = 8\n",
    "day = 15\n",
    "anni = '광복절'\n",
    "print('%d월 %d일은 %s이다.'%(month, day, anni))"
   ]
  },
  {
   "cell_type": "code",
   "execution_count": 73,
   "id": "3f6f8cb3",
   "metadata": {},
   "outputs": [
    {
     "name": "stdout",
     "output_type": "stream",
     "text": [
      "나는 사과7개를 먹고 3일동안 아팠다.\n"
     ]
    }
   ],
   "source": [
    "print('나는 사과{number}개를 먹고 {day}일동안 아팠다.'.format(number=7,day=3))"
   ]
  },
  {
   "cell_type": "markdown",
   "id": "15a39b9f",
   "metadata": {},
   "source": [
    "## [문제] 주민등록번호 분석하기\n",
    "- 임의의 주민등록번호를 입력받아 다음과 같이 생년과 성별을 추출하여 출력하는 코드를 작성하시오.\n",
    "- (입력) 881231-1234567 --> (출력) 88년생 남자\n",
    "- 사용조건 : 문자열 슬라이싱, 삼항연산자, 문자열 포맷팅"
   ]
  },
  {
   "cell_type": "code",
   "execution_count": 114,
   "id": "ce4731d4",
   "metadata": {},
   "outputs": [
    {
     "name": "stdout",
     "output_type": "stream",
     "text": [
      "주민등록번호를 입력하세요(13자) : 1231231231231\n",
      "12년생 여자\n",
      "주민등록번호:1231231231231\n",
      "12년생 여자\n"
     ]
    }
   ],
   "source": [
    "ju = input('주민등록번호를 입력하세요(13자) : ')\n",
    "a = ju[0:6]\n",
    "b = ju[7:14]\n",
    "c = a,'-',b\n",
    "d=''.join(c)\n",
    "if d[7] == '1':\n",
    "    e = d[0:2]\n",
    "    print('%s년생 남자'%e)\n",
    "elif d[7] == '2':\n",
    "    e =d[0:2]\n",
    "    print('%s년생 여자'%e)\n",
    "else:\n",
    "    print('인간이 아닙니다.')\n",
    "\n",
    "\n",
    "jumin = input('주민등록번호:')\n",
    "year = jumin[:2]\n",
    "gender = jumin[7:8]\n",
    "s_gender = '남자' if gender == '1' else '여자'\n",
    "print('%s년생 %s'%(year,s_gender))"
   ]
  },
  {
   "cell_type": "markdown",
   "id": "87d59278",
   "metadata": {},
   "source": [
    "## [문제] 단어 수 세기\n",
    "- 문장열 내 전체 단어가 몇개인가?\n",
    "- 문자열 내 like 단어의 개수가 몇개인가?\n",
    "- 문자열 내 가장 많이 나오는 단어는 무엇이며 몇번인가?\n",
    ">- '>-'2단내부\n",
    ">- 1) 문자열 내에 앤터('\\n')문자를 공백 문자로 치환: replace(old string, new string)\n",
    ">- 2) 문자열을 단어로 나눈다 : split()\n",
    ">- 3) 모든 단어를 소문자로 수정한다 : lower()\n"
   ]
  },
  {
   "cell_type": "code",
   "execution_count": 126,
   "id": "84616e36",
   "metadata": {},
   "outputs": [],
   "source": [
    "song = '''Hello, it's me \n",
    "I was wondering if after all these years you'd like to meet\n",
    "To go over everything\n",
    "They say that time's supposed to heal ya\n",
    "But I ain't done much healing\n",
    "Hello, can you hear me?\n",
    "I'm in California dreaming about who we used to be\n",
    "When we were younger and free\n",
    "I've forgotten how it felt before the world fell at our feet\n",
    "There's such a difference between us\n",
    "And a million miles\n",
    "Hello from the other side\n",
    "I must've called a thousand times\n",
    "To tell you I'm sorry for everything that I've done\n",
    "But when I call, you never seem to be home\n",
    "Hello from the outside\n",
    "At least I can say that I've tried\n",
    "To tell you I'm sorry for breaking your heart\n",
    "But it don't matter, it clearly doesn't tear you apart anymore\n",
    "Hello, how are you?\n",
    "It's so typical of me to talk about myself, I'm sorry\n",
    "I hope that you're well\n",
    "Did you ever make it out of that town where nothing ever happened?\n",
    "It's no secret that the both of us are running out of time\n",
    "So hello from the other side (Other side)\n",
    "I must've called a thousand times (Thousand times)\n",
    "To tell you I'm sorry for everything that I've done\n",
    "But when I call, you never seem to be home\n",
    "Hello from the outside (Outside)\n",
    "At least I can say that I've tried (I've tried)\n",
    "To tell you I'm sorry for breaking your heart\n",
    "But it don't matter, it clearly doesn't tear you apart anymore\n",
    "Ooh-ooh, anymore\n",
    "Ooh-ooh-ooh, anymore\n",
    "Ooh-ooh, anymore\n",
    "Anymore\n",
    "Hello from the other side (Other side)\n",
    "I must've called a thousand times (Thousand times)\n",
    "To tell you I'm sorry for everything that I've done\n",
    "But when I call, you never seem to be home\n",
    "Hello from the outside (Outside)\n",
    "At least I can say that I've tried (I've tried)\n",
    "To tell you I'm sorry for breaking your heart\n",
    "But it don't matter, it clearly doesn't tear you apart anymore'''"
   ]
  },
  {
   "cell_type": "code",
   "execution_count": 158,
   "id": "bac823ec",
   "metadata": {},
   "outputs": [
    {
     "name": "stdout",
     "output_type": "stream",
     "text": [
      "전체 단어 갯수:  333\n",
      "like 단어의 개수 :  1\n",
      "가장 많이 나온 단어는 you 이며 횟수는 14 이다.\n"
     ]
    }
   ],
   "source": [
    "# li = len(song)\n",
    "# t = song.lower()\n",
    "# li1 = t.count('like')\n",
    "# t1 = t.replace('\\n',' ')\n",
    "# t2 = t1.split()\n",
    "# t3 = ''\n",
    "# t4 = 0\n",
    "\n",
    "# for i in t2:\n",
    "#     t4 = i.count(t2)\n",
    "#     if t3 not in i :\n",
    "#         break\n",
    "#     elif t3 in i:\n",
    "#         t4 += 1\n",
    "    \n",
    "\n",
    "# print(t)\n",
    "# print(li) #총단어수\n",
    "# print(li1) #like갯수\n",
    "# print(t2) #단어를 나눔\n",
    "\n",
    "song = song.replace('\\n',' ')\n",
    "song=song.lower()\n",
    "word_list = song.split()\n",
    "print('전체 단어 갯수: ',len(word_list))\n",
    "print('like 단어의 개수 : ',song.count('like'))\n",
    "\n",
    "# song.count('a') --> 'a', 'apple'\n",
    "max_word_count = 0 #가장 많이 나온 단어의 회수\n",
    "max_word = '' #가장 많이 나온 단어\n",
    "for word in word_list:\n",
    "    word_count = word_list.count(word) #song.count(word) --> X\n",
    "    if word_count > max_word_count:\n",
    "        max_word_count = word_count\n",
    "        max_word = word\n",
    "print('가장 많이 나온 단어는 %s 이며 횟수는 %d 이다.'%(max_word,max_word_count))"
   ]
  }
 ],
 "metadata": {
  "kernelspec": {
   "display_name": "Python 3 (ipykernel)",
   "language": "python",
   "name": "python3"
  },
  "language_info": {
   "codemirror_mode": {
    "name": "ipython",
    "version": 3
   },
   "file_extension": ".py",
   "mimetype": "text/x-python",
   "name": "python",
   "nbconvert_exporter": "python",
   "pygments_lexer": "ipython3",
   "version": "3.9.12"
  },
  "toc": {
   "base_numbering": 1,
   "nav_menu": {},
   "number_sections": true,
   "sideBar": true,
   "skip_h1_title": false,
   "title_cell": "Table of Contents",
   "title_sidebar": "Contents",
   "toc_cell": false,
   "toc_position": {},
   "toc_section_display": true,
   "toc_window_display": true
  }
 },
 "nbformat": 4,
 "nbformat_minor": 5
}
