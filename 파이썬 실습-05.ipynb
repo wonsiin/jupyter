{
 "cells": [
  {
   "cell_type": "markdown",
   "id": "123ea0cc",
   "metadata": {},
   "source": [
    "# Comprehension"
   ]
  },
  {
   "cell_type": "code",
   "execution_count": 4,
   "id": "accb39f5",
   "metadata": {},
   "outputs": [
    {
     "name": "stdout",
     "output_type": "stream",
     "text": [
      "[3, 135, 18, 21, 24, 9, 15, 24, 132, 30]\n",
      "[6, 8, 8, 44, 10]\n",
      "[2, 4, 6, 8, 10, 12, 14, 16, 18, 3, 6, 9, 12, 15, 18, 21, 24, 27, 4, 8, 12, 16, 20, 24, 28, 32, 36, 5, 10, 15, 20, 25, 30, 35, 40, 45, 6, 12, 18, 24, 30, 36, 42, 48, 54, 7, 14, 21, 28, 35, 42, 49, 56, 63, 8, 16, 24, 32, 40, 48, 56, 64, 72, 9, 18, 27, 36, 45, 54, 63, 72, 81]\n"
     ]
    }
   ],
   "source": [
    "tmp = [1,45,6,7,8,3,5,8,44,10]\n",
    "b = [ i*3 for i in tmp]\n",
    "print(b)\n",
    "c = [i for i in tmp if not i%2]  #for문을 통해 값을i에 담고 if문 실행 2로 나눴을때 짝수라면 그 값을 사용하겟다.\n",
    "print(c)\n",
    "d = [ x*y for x in range(2,10) for y in range(1,10)] #곱샘\n",
    "print(d)"
   ]
  },
  {
   "cell_type": "code",
   "execution_count": 7,
   "id": "70f1154a",
   "metadata": {},
   "outputs": [
    {
     "name": "stdout",
     "output_type": "stream",
     "text": [
      "[[0, 0, 0, 0, 0, 0, 0], [0, 0, 0, 0, 0, 0, 0], [0, 0, 0, 0, 0, 0, 0], [0, 0, 0, 0, 0, 0, 0]]\n"
     ]
    }
   ],
   "source": [
    "# double_list = [[0,0,0,0,0,0,],\n",
    "#               [0,0,0,0,0,0,],\n",
    "#               [0,0,0,0,0,0,],\n",
    "#               [0,0,0,0,0,0,]]\n",
    "double_list = [ [ 0 for col in range(7)] for row in range(4)] #4번 반복되는게 중요하고 7번을 반복시킨다\n",
    "print(double_list)"
   ]
  },
  {
   "cell_type": "code",
   "execution_count": 13,
   "id": "3ca9ab22",
   "metadata": {},
   "outputs": [
    {
     "name": "stdout",
     "output_type": "stream",
     "text": [
      "{'빨강': 0, '파랑': 1, '노랑': 2, '초록': 3}\n"
     ]
    }
   ],
   "source": [
    "color = ['빨강','파랑','노랑','초록']\n",
    "#color_map = { for c in enumerate(color)} #enumerate : 값을 넣어주면 값과 인덱스값을 튜플의 형식으로 반환\n",
    "# print(list(enumerate(color)))\n",
    "# for i,v in enumerate(color):\n",
    "#     print(i,v)\n",
    "color_map = { v:i for i , v in enumerate(color)} #순서 바꾸기\n",
    "print(color_map)\n"
   ]
  },
  {
   "cell_type": "markdown",
   "id": "c1f235e6",
   "metadata": {},
   "source": [
    "## [문제] 1~100까지 1씩 증가하는 데이터를 발생하여 3의 배수이거나 5의 배수인 데이터만 리스트에 포함시킨 후 출력"
   ]
  },
  {
   "cell_type": "code",
   "execution_count": 28,
   "id": "fa174d17",
   "metadata": {},
   "outputs": [
    {
     "name": "stdout",
     "output_type": "stream",
     "text": [
      "[3, 5, 6, 9, 10, 12, 15, 18, 20, 21, 24, 25, 27, 30, 33, 35, 36, 39, 40, 42, 45, 48, 50, 51, 54, 55, 57, 60, 63, 65, 66, 69, 70, 72, 75, 78, 80, 81, 84, 85, 87, 90, 93, 95, 96, 99, 100]\n"
     ]
    }
   ],
   "source": [
    "a = [ i for i in range(1,101) if not i%3 or not i%5]\n",
    "print(a)"
   ]
  },
  {
   "cell_type": "markdown",
   "id": "2d11a201",
   "metadata": {},
   "source": [
    "## iterator 함수\n",
    "- zip() 을 이용한 순회\n",
    "-- 여러 시퀀스를 병렬로 순회하는 함수\n",
    "-- 여러시퀀스 중 가장 짧은 시퀀스가 완료되면 멈춘다.\n",
    "-- 두개 이상의 list, 튜플의 값을 병렬적으로 추출할때 사용.\n",
    "   추출된 데이터는 문자열, 리스트, 튜플 등으로 추출 가능.\n",
    "- enumerate()을 이용한 순회\n",
    "-- 순서 값과 요소 값 둘을 한꺼번에 구해주는 내장함수\n",
    "-- 리스트의 순서 값과 요소 값을 튜플로 묶은 컬렉션을 리턴한다."
   ]
  },
  {
   "cell_type": "markdown",
   "id": "c8b54d79",
   "metadata": {},
   "source": [
    "# zip()"
   ]
  },
  {
   "cell_type": "code",
   "execution_count": 30,
   "id": "046f3ab7",
   "metadata": {},
   "outputs": [
    {
     "name": "stdout",
     "output_type": "stream",
     "text": [
      "[(1, 10), (2, 20), (3, 30), (4, 40), (5, 50)]\n",
      "{555, 333, 111, 444, 222}\n"
     ]
    }
   ],
   "source": [
    "data1 = [1,2,3,4,5]\n",
    "data2 = [10,20,30,40,50]\n",
    "data3 = [100,200,300,400,500]\n",
    "result1 = [ x for x in zip(data1,data2)] #튜플로 반환\n",
    "print(result1)\n",
    "result2 = {sum(x) for x in zip(data1, data2, data3)}\n",
    "print(result2)"
   ]
  },
  {
   "cell_type": "markdown",
   "id": "7e5f34e5",
   "metadata": {},
   "source": [
    "## zip 과 dict 사용"
   ]
  },
  {
   "cell_type": "code",
   "execution_count": 32,
   "id": "266638af",
   "metadata": {},
   "outputs": [
    {
     "name": "stdout",
     "output_type": "stream",
     "text": [
      "월요일 메뉴:갈비탕\n",
      "화요일 메뉴:순대국\n",
      "수요일 메뉴:칼국수\n",
      "목요일 메뉴:삼겹살\n",
      "{'월': '갈비탕', '화': '순대국', '수': '칼국수', '목': '삼겹살'}\n"
     ]
    }
   ],
   "source": [
    "yoil = ['월','화','수','목','금','토','일']\n",
    "food = ['갈비탕','순대국','칼국수','삼겹살']\n",
    "menu = zip(yoil, food)\n",
    "for y,f in menu:\n",
    "    print('%s요일 메뉴:%s'%(y,f)) #짧은쪽이 끝나면 읽기가 끝난다.\n",
    "\n",
    "d = dict(zip(yoil,food)) # 키 벨류 값으로 만들어보린다.\n",
    "print(d)"
   ]
  },
  {
   "cell_type": "code",
   "execution_count": 34,
   "id": "b61438df",
   "metadata": {},
   "outputs": [
    {
     "name": "stdout",
     "output_type": "stream",
     "text": [
      "1 월\n",
      "2 화\n",
      "3 수\n",
      "4 목\n",
      "5 금\n",
      "6 토\n",
      "7 일\n"
     ]
    }
   ],
   "source": [
    "yoil = ['월','화','수','목','금','토','일']\n",
    "for i, item in enumerate(yoil,1): #요일 , 1을 넣으면 인덱스 값을 1부터 시작할수 있음.\n",
    "    print(i,item)"
   ]
  },
  {
   "cell_type": "markdown",
   "id": "7551c5be",
   "metadata": {},
   "source": [
    "## [문제] 리스트 x와 y를 이용하여 리스트 z와 같은 결과가 나오도록 하세요.\n",
    "- x = [[1,2,3],[4,5,6]]\n",
    "- y = [[11,12,13],[14,15,16]]\n",
    "- z = [[12,14,16],[18,20,22]]\n",
    "- 처리조건 : list comprehension, zip()을 이용"
   ]
  },
  {
   "cell_type": "code",
   "execution_count": 51,
   "id": "c9171929",
   "metadata": {},
   "outputs": [
    {
     "name": "stdout",
     "output_type": "stream",
     "text": [
      "[[12, 14, 16], [18, 20, 22]]\n"
     ]
    }
   ],
   "source": [
    "x = [[1,2,3],[4,5,6]]\n",
    "y = [[11,12,13],[14,15,16]]\n",
    "#print(list(zip(x,y)))\n",
    "# 이중 리스트 활용 방법\n",
    "z = [ [ sum(i) for i in zip(a,b)] for a,b in zip(x,y)]\n",
    "print(z)"
   ]
  },
  {
   "cell_type": "markdown",
   "id": "183fc6f4",
   "metadata": {},
   "source": [
    "## [문제] 문자열을 구성하는 문자의 개수 세기\n",
    "<pre>\n",
    "사용자로부터 임의의 문자열을 입력 받아 해당 문자열을 구성하는 문자들 및 각 문자의 개수를 출력하는 코드를 작성하시오.\n",
    "[예시]\n",
    "입력 : 가가가가bbbcc#\n",
    "추력 : 가4b3c2#1\n",
    "</pre>"
   ]
  },
  {
   "cell_type": "code",
   "execution_count": 95,
   "id": "397831ba",
   "metadata": {},
   "outputs": [
    {
     "name": "stdout",
     "output_type": "stream",
     "text": [
      "문자를 입력하세요 :asdf\n",
      "출력: a1s1d1f1"
     ]
    }
   ],
   "source": [
    "#java형식\n",
    "data = input('문자를 입력하세요 :')\n",
    "mydic = dict()\n",
    "count=0\n",
    "for s in data: #문자 1개씩 꺼내옴\n",
    "    if mydic.get(s) != None:\n",
    "        mydic[s] = mydic.get(s) + 1\n",
    "    else:\n",
    "        mydic[s] = 1\n",
    "keys = mydic.keys()\n",
    "print('출력: ', end='')\n",
    "for k in keys:\n",
    "    print(k,mydic[k],end='',sep='')"
   ]
  },
  {
   "cell_type": "code",
   "execution_count": 97,
   "id": "29f360f8",
   "metadata": {},
   "outputs": [
    {
     "name": "stdout",
     "output_type": "stream",
     "text": [
      "출력: asdfasfd\n",
      "출력 :a2s2d2f2"
     ]
    }
   ],
   "source": [
    "data = input('출력: ')\n",
    "mydic = { s:data.count(s) for s in data }\n",
    "print('출력 :' ,end='')\n",
    "for k,v in mydic.items():\n",
    "    print(k,v,sep='',end='')"
   ]
  },
  {
   "cell_type": "markdown",
   "id": "2ab68c42",
   "metadata": {},
   "source": [
    "## [문제] 대문자 변환\n",
    "<pre>\n",
    "사용자로부터 임의의 문자열을 입력 받아 해당 문자열 내 모든 소문자를 '#'으로 변환하여 출력하는  코드를 작성하시오.\n",
    "[예시]\n",
    "입력: abCDeFg\n",
    "출력: ##CD#F#\n",
    "[참고]\n",
    "문자열 소문자 여부 확인 : 문자열객체.islower()\n",
    "</pre>"
   ]
  },
  {
   "cell_type": "code",
   "execution_count": 112,
   "id": "f126222c",
   "metadata": {},
   "outputs": [
    {
     "name": "stdout",
     "output_type": "stream",
     "text": [
      "입력 : asdfADSFa\n",
      "출력 : ####ADSF#\n"
     ]
    }
   ],
   "source": [
    "# ip = input('입력 :')\n",
    "# for i in ip:\n",
    "#     if i.islower():\n",
    "#         print('#',end='',sep='')\n",
    "#     else:\n",
    "#         print(i,end='',sep='')\n",
    "\n",
    "#선생님 방식\n",
    "# data=input('입력: ')\n",
    "# result = list()\n",
    "# for s in data:\n",
    "#     if s.islower():\n",
    "#         result.append('#')\n",
    "#     else:\n",
    "#         result.append(s)\n",
    "# print('출력 :',end='')\n",
    "# for s in result:\n",
    "#     print(s,sep='',end='')\n",
    "#선생님 방식2\n",
    "data = input('입력 : ')\n",
    "result = [ '#' if s.islower() else s for s in data]\n",
    "print('출력 :',''.join(result))"
   ]
  },
  {
   "cell_type": "markdown",
   "id": "0f910b81",
   "metadata": {},
   "source": [
    "## 함수\n",
    "- 함수란\n",
    "-- 이름이 있는 코드 조각\n",
    "-- 매개변수와 반환 값이 있다.\n",
    "-- 정의하고 난 후 호출을 한다.\n",
    "-- 내장함수(print() 등...)와 외장함수가 있다.\n",
    " [sum, len type 등...]\n",
    "<pre>\n",
    "1)함수 정의\n",
    " def 함수명():         #매개변수가 없는 함수\n",
    "     [return 코드]\n",
    " def 함수명(a,b):      #매개변수가 있는 함수\n",
    "     [return 코드]\n",
    "2) 함수 호출\n",
    "    함수명()\n",
    "    결과값을 받을 변수 = 함수명(입력 인수1, 입력인수)\n",
    "</pre>\n",
    "<pre>\n",
    "#매개변수가 없는 함수\n",
    "def somethoing():\n",
    "    print('hahaha')\n",
    "x = something() # 이방식은 문제가 되진 않는다.\n",
    "print(x) -> None이라고 출력됨\n",
    "</pre>\n",
    "## 함수(매개변수와 인수)\n",
    "매개변수와 인수\n",
    "- 매개변수 : 함수에 입력으로 전달된 값을 받는 변수를 의미\n",
    "- 인수 : 함수를 호출할 때 전달하는 입력 값을 의미\n",
    "인자를 지정한 함수의 호출\n",
    "#### java에서 void test (int a,,,{} -> test(1,2,3)으로 사용할수 있다. 5.0이상부터 허용\n",
    "- python 은 매개벼수의 수만큼 전달해줘야 하는 것이 기본이지만, 가변인자 사용도 가능\n",
    "- 매개 변수에 초기값을 설정할 수 잇다.\n",
    "키워드 인자를 이용한 호출(Keyword argument)\n",
    "#### def test(a,b,c): -> test(1,2,3) 전달하면 1은 a로 전달이 되는 방식을 '위치인수' 라고 한다.\n",
    "#### test (a = 1, c = 2, d = 3) -> 맵핑해서 보내는 것을 '키워드 인자' 라고 한다.\n",
    "#### 위치인수 와 키워드 인자를 같이 섞어서 보낼수도 있다.\n",
    "\n",
    "\n",
    "- 호출할 때 매개 변수명과 값을 지정하여 호출하는 방식\n",
    "- 위치 인수와 키워드 인수를 섞어서 호출 할 수 있으며, 이때 '위치 인수'를 먼저 적고 뒤쪽에 '키워드 인수'를 적는다.\n",
    "ex)\n",
    " def calcstep(begin,end,step):\n",
    "     ...\n",
    " calcstep(end=3,5,1) #error\n",
    " calcstep(5,1,end=3) 이렇게는 사용가능"
   ]
  },
  {
   "cell_type": "markdown",
   "id": "a41a4e7f",
   "metadata": {},
   "source": [
    "## 함수 초기값 설정\n",
    "- 초기값 의 설정\n",
    "-- 함수 정의부의 매개변수에 초기값을 설정하면, 해당 매개 변수의 값이 전달되지 않았을 경우 지정된 초기 값으로 세팅된다.\n",
    "-- c++의 초기값과 유사\n",
    "-- 초기값은 오른쪽부터 채워야 한다.(즉, 기본값을 가지는 인수 뒤에 일반 인수가 올 수 없다.)\n",
    "--- def calcstep(degin,step=1,end) #error -> def calcstep(degin, end, step=1)\n",
    "##None\n",
    "-- "
   ]
  },
  {
   "cell_type": "markdown",
   "id": "f90070e5",
   "metadata": {},
   "source": [
    "## 변수의 scope\n",
    "- 함수는 정의된 위치에 따라 지역과 전역으로 나뉨\n",
    "-- 지역변수 : 함수 내부에 선언\n",
    "-- 전역변수 : 함수 밖에 선언\n",
    "--- 함수 내부에서 쵝화 되는 변수는 전역변수와 이름이 같아도 지역변수로 간주.\n",
    "<pre>\n",
    "pri = 1000   #전여변수\n",
    "def sales():\n",
    "    global pri 를 사용하면 전역변수가 변환이 가능하다.\n",
    "    pri = 500  #sales 함수 안에서만 쓰이는 지역변수\n",
    "sales()\n",
    "print(pri) => 1000 출력\n",
    "</pre>"
   ]
  }
 ],
 "metadata": {
  "kernelspec": {
   "display_name": "Python 3 (ipykernel)",
   "language": "python",
   "name": "python3"
  },
  "language_info": {
   "codemirror_mode": {
    "name": "ipython",
    "version": 3
   },
   "file_extension": ".py",
   "mimetype": "text/x-python",
   "name": "python",
   "nbconvert_exporter": "python",
   "pygments_lexer": "ipython3",
   "version": "3.9.12"
  },
  "toc": {
   "base_numbering": 1,
   "nav_menu": {},
   "number_sections": true,
   "sideBar": true,
   "skip_h1_title": false,
   "title_cell": "Table of Contents",
   "title_sidebar": "Contents",
   "toc_cell": false,
   "toc_position": {},
   "toc_section_display": true,
   "toc_window_display": false
  }
 },
 "nbformat": 4,
 "nbformat_minor": 5
}
