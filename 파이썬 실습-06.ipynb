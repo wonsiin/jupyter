{
 "cells": [
  {
   "cell_type": "markdown",
   "id": "3e86b47f",
   "metadata": {},
   "source": [
    "# 함수"
   ]
  },
  {
   "cell_type": "code",
   "execution_count": 3,
   "id": "2d023129",
   "metadata": {},
   "outputs": [
    {
     "name": "stdout",
     "output_type": "stream",
     "text": [
      "500\n"
     ]
    }
   ],
   "source": [
    "price =1000 #전역변수\n",
    "\n",
    "def sales():\n",
    "    global price #선언 하면 전역변수로 사용하겟다는 의미\n",
    "    price = 500 #지역변수 소멸됨\n",
    "sales()\n",
    "print(price)"
   ]
  },
  {
   "cell_type": "code",
   "execution_count": 6,
   "id": "1915ccde",
   "metadata": {},
   "outputs": [
    {
     "name": "stdout",
     "output_type": "stream",
     "text": [
      "1~10까지 합은=  55\n",
      "1~10까지의 합 = 55\n"
     ]
    }
   ],
   "source": [
    "def calcstep(begin, end, step=1):\n",
    "    sum = 0\n",
    "    for num in range(begin, end +1, step):\n",
    "        sum += num\n",
    "    return sum\n",
    "print('1~10까지 합은= ',calcstep(1,10))\n",
    "print('1~10까지의 합 =', calcstep(end=10,begin=1))"
   ]
  },
  {
   "cell_type": "markdown",
   "id": "b7d76884",
   "metadata": {},
   "source": [
    "## 1.1 [문제] 다음과 같은 결과를 출력하는 함수를 정의하시오.\n",
    "<pre>\n",
    "print_star(5)\n",
    "*\n",
    "**\n",
    "***\n",
    "****\n",
    "*****\n",
    "</pre>"
   ]
  },
  {
   "cell_type": "code",
   "execution_count": 14,
   "id": "eb11bbd9",
   "metadata": {},
   "outputs": [
    {
     "name": "stdout",
     "output_type": "stream",
     "text": [
      "*\n",
      "**\n",
      "***\n",
      "****\n",
      "*****\n"
     ]
    }
   ],
   "source": [
    "def print_star(num):\n",
    "    for i in range(1,num+1):\n",
    "        print('*'*i)\n",
    "print_star(5)"
   ]
  },
  {
   "cell_type": "markdown",
   "id": "ed8e5f09",
   "metadata": {},
   "source": [
    "## *arg와 **kwargs 매개변수\n",
    "- *arg와 **kwargs 매개변수의 사용\n",
    "-- *args는 전달된 데이터를 튜플로 묶는다.\n",
    "-- **kwargs:가변 인자를 dict() 타입으로 받음(위치 인수를 넘기면 에러 발생)\n",
    "-- 위치 인수와 키워드 인수를 동시에 가변으로 취할 수도 있는데, 이ㄸ는 위치 인수가 먼저 오고 키워드 인수가 뒤에 온다.\n",
    "<pre>\n",
    "def test(*a) -> test(),test(1),test(1,2,3)\n",
    "</pre>"
   ]
  },
  {
   "cell_type": "code",
   "execution_count": 18,
   "id": "31c8c874",
   "metadata": {},
   "outputs": [
    {
     "name": "stdout",
     "output_type": "stream",
     "text": [
      "인수값 ()\n",
      "인수값 (1, 2, 3)\n"
     ]
    }
   ],
   "source": [
    "def test(*a):\n",
    "    print('인수값',a)\n",
    "test()\n",
    "test(1,2,3)"
   ]
  },
  {
   "cell_type": "code",
   "execution_count": 21,
   "id": "b8d07ad9",
   "metadata": {},
   "outputs": [
    {
     "name": "stdout",
     "output_type": "stream",
     "text": [
      "a : 10\n",
      "b : 20\n",
      "args: (30,)\n"
     ]
    }
   ],
   "source": [
    "def myargs(a,b,*args):\n",
    "    print('a :',a)\n",
    "    print('b :',b)\n",
    "    print('args:',args)\n",
    "# myargs(10,20)\n",
    "myargs(10,20,30 )"
   ]
  },
  {
   "cell_type": "code",
   "execution_count": 27,
   "id": "7c0c1fea",
   "metadata": {},
   "outputs": [
    {
     "name": "stdout",
     "output_type": "stream",
     "text": [
      "10 20 {'c': 30}\n",
      "10 20 {'drink': '막걸리', 'dessert': '파전'}\n"
     ]
    }
   ],
   "source": [
    "def myargs2(a,b,**kwargs):\n",
    "    print(a,b,kwargs)\n",
    "# myargs2(10,20)\n",
    "#키워드는 변수의 값을 매핑해서 보내줘야한다.\n",
    "myargs2(10,20,c=30)\n",
    "myargs2(10,20,drink='막걸리',dessert='파전')"
   ]
  },
  {
   "cell_type": "code",
   "execution_count": 31,
   "id": "ced6f79a",
   "metadata": {},
   "outputs": [
    {
     "name": "stdout",
     "output_type": "stream",
     "text": [
      "55\n"
     ]
    }
   ],
   "source": [
    "def calcstep(**kwargs):\n",
    "    begin = kwargs['begin']\n",
    "    end = kwargs['end']\n",
    "    step = kwargs['step']\n",
    "    \n",
    "    sum = 0\n",
    "    for n in range(begin, end+1, step):\n",
    "        sum += n\n",
    "    return sum\n",
    "print(calcstep(begin=1,end=10,step=1))"
   ]
  },
  {
   "cell_type": "markdown",
   "id": "9f631c4e",
   "metadata": {},
   "source": [
    "## Fiter, Map, Reduce\n",
    "- Filter, Map, Reduce\n",
    "-- filter() : 리스트 요소 중 조건에 맞는 것만 골라 list로 리턴\n",
    "-- map() : 리스트 변환 함수로 처리후 그 결과를 list로 리턴\n",
    "-- reduce() : 리스트 집계 함수로 처리 후그 결과를 단일이 값으로 리턴\n",
    "    -- 집계 함수는 두개의 인자를 받는다. 첫 인자는 누적자가되고, 두번째 인자는 현재 값이 넘어온다.\n",
    "-- seque자료형 각 element에 동일한 function을 적용. 빅데이터에서 매우 중요.\n",
    "--map(function_name,list_Data)\n",
    "--- reduct(function_name,list_Data)"
   ]
  },
  {
   "cell_type": "markdown",
   "id": "9e493f1b",
   "metadata": {},
   "source": [
    "# Filter. Map, Reduce"
   ]
  },
  {
   "cell_type": "code",
   "execution_count": 37,
   "id": "778e1567",
   "metadata": {},
   "outputs": [
    {
     "name": "stdout",
     "output_type": "stream",
     "text": [
      "낙제 점수 : 45\n",
      "낙제 점수 : 56\n"
     ]
    }
   ],
   "source": [
    "def flunk(s):\n",
    "    return s<60\n",
    "\n",
    "score = [45,89,72,56,94]\n",
    "for s in filter(flunk, score):\n",
    "    print('낙제 점수 :',s)"
   ]
  },
  {
   "cell_type": "code",
   "execution_count": 38,
   "id": "806619d6",
   "metadata": {},
   "outputs": [
    {
     "name": "stdout",
     "output_type": "stream",
     "text": [
      "22.5 44.5 36.0 28.0 47.0 "
     ]
    }
   ],
   "source": [
    "def half(s):\n",
    "    return s/2\n",
    "score = [45,89,72,56,94]\n",
    "for s in map(half , score):\n",
    "    print(s,end=' ')"
   ]
  },
  {
   "cell_type": "code",
   "execution_count": 41,
   "id": "d71fdf1a",
   "metadata": {},
   "outputs": [
    {
     "name": "stdout",
     "output_type": "stream",
     "text": [
      "356\n",
      "Hello Python\n"
     ]
    }
   ],
   "source": [
    "from functools import reduce\n",
    "\n",
    "def sum(a,b):\n",
    "    return a+b\n",
    "score = [45,89,72,56,94]\n",
    "print(reduce(sum,score))\n",
    "\n",
    "alpahbat = ['H','e','l','l','o',' ','P','y','t','h','o','n']\n",
    "print(reduce(sum,alpahbat))"
   ]
  },
  {
   "cell_type": "markdown",
   "id": "b412b237",
   "metadata": {},
   "source": [
    "# Lambda\n",
    "- Lambda 함수?\n",
    "-- 단일문으로 표현되는 익명 함수\n",
    "-- Lambda, map, reduce는 간단한 코드로 다양한 기능을 제공\n",
    "-- 그러나 코드의 직관성이 떨어져서 lambda나 reduce는 python3에서 사용을 권장하지 않음\n",
    "-- 파이썬 3부터는 권장하지는 않으나 Legacy library 나 다양한 머신러닝 코드에서 여전히 많이 사용\n",
    "-- 작은 함수를 정의하고 이들을 호출해서 얻은 모든 결과값을 저장해야 하는 경우에 유용\n",
    "-- ㅁㅁㅁ\n"
   ]
  },
  {
   "cell_type": "code",
   "execution_count": 43,
   "id": "863983c5",
   "metadata": {},
   "outputs": [
    {
     "name": "stdout",
     "output_type": "stream",
     "text": [
      "21\n",
      "21\n"
     ]
    }
   ],
   "source": [
    "def myfunc(x,y):\n",
    "    return x+y\n",
    "result = myfunc(10,11)\n",
    "print(result)\n",
    "#람다 사용이 유용\n",
    "result2 = lambda x, y : x+y #x y를 사용할 것이며 결과값은 x+y로 반환 하겟다 는 의미\n",
    "print(result2(10,11))"
   ]
  },
  {
   "cell_type": "code",
   "execution_count": 44,
   "id": "54f55dff",
   "metadata": {},
   "outputs": [
    {
     "data": {
      "text/plain": [
       "[1, 4, 9, 16, 25]"
      ]
     },
     "execution_count": 44,
     "metadata": {},
     "output_type": "execute_result"
    }
   ],
   "source": [
    "a = [1,2,3,4,5]\n",
    "list(map(lambda x:x**2,a)) #제곱한 리스트의 값을 만듬"
   ]
  },
  {
   "cell_type": "code",
   "execution_count": 48,
   "id": "fef7c6e6",
   "metadata": {},
   "outputs": [
    {
     "data": {
      "text/plain": [
       "[3, 7, 11, 15, 19]"
      ]
     },
     "execution_count": 48,
     "metadata": {},
     "output_type": "execute_result"
    }
   ],
   "source": [
    "x = [1,3,5,7,9]\n",
    "y = [2,4,6,8,10]\n",
    "list(map(lambda a,b : a+b,x,y))"
   ]
  },
  {
   "cell_type": "code",
   "execution_count": 49,
   "id": "e833a9e8",
   "metadata": {},
   "outputs": [
    {
     "name": "stdout",
     "output_type": "stream",
     "text": [
      "15\n"
     ]
    }
   ],
   "source": [
    "x = [1,2,3,4,5]\n",
    "print(reduce(lambda a,b:a+b,x)) #reduce는 2개의 값을 받아야한다."
   ]
  },
  {
   "cell_type": "code",
   "execution_count": 50,
   "id": "995e5209",
   "metadata": {},
   "outputs": [
    {
     "data": {
      "text/plain": [
       "[1, 4, 3, 16, 5, 36, 7, 64, 9, 100]"
      ]
     },
     "execution_count": 50,
     "metadata": {},
     "output_type": "execute_result"
    }
   ],
   "source": [
    "list(map(lambda x:x**2 if not x%2 else x,range(1,11))) #처리는 map을 사용"
   ]
  },
  {
   "cell_type": "markdown",
   "id": "77ec70e1",
   "metadata": {},
   "source": [
    "## 값으로서의 함수\n",
    "- Python 에서는 함수를 값으로 처리(first-class citizen, 일급함수)\n",
    "-- 함수를 다른 변수에 대입 할 수 있다.\n",
    "-- 인수로 전달 할 수 있다.\n",
    "-- 컬렉션에 저장 할 수 있다.\n",
    "<pre>\n",
    "def add(a,b):\n",
    "    print(a+b)\n",
    "\n",
    "</pre>"
   ]
  },
  {
   "cell_type": "code",
   "execution_count": 52,
   "id": "d0f4a678",
   "metadata": {},
   "outputs": [
    {
     "name": "stdout",
     "output_type": "stream",
     "text": [
      "3\n",
      "<class 'function'>\n"
     ]
    }
   ],
   "source": [
    "def add(a,b):\n",
    "    print(a+b)\n",
    "plus = add #함수의 이름만 사용\n",
    "plus(1,2) #변수처럼 사용했지만 타입이 함수다.\n",
    "print(type(plus))"
   ]
  },
  {
   "cell_type": "code",
   "execution_count": 54,
   "id": "e978019e",
   "metadata": {},
   "outputs": [
    {
     "name": "stdout",
     "output_type": "stream",
     "text": [
      "3\n",
      "12\n"
     ]
    }
   ],
   "source": [
    "def calc(op,a,b):\n",
    "    op(a,b)\n",
    "def add(a,b):\n",
    "    print(a+b)\n",
    "def multi(a,b):\n",
    "    print(a*b)\n",
    "calc(add, 1,2)\n",
    "calc(multi,3,4)"
   ]
  },
  {
   "cell_type": "markdown",
   "id": "4fa16afd",
   "metadata": {},
   "source": [
    "## 내부 함수와 Closure\n",
    "- 내부함수\n",
    "-- 함수 안에 정의된 다른 함수\n",
    "-- 코드 중복을 피하기 위해 주로 사용\n",
    "<pre>\n",
    "def outer(a,b):\n",
    "    def inner(c,d):\n",
    "        return c+d\n",
    "    return inner(a,b)\n",
    "print(outer(4,7))\n",
    "</pre>"
   ]
  },
  {
   "cell_type": "markdown",
   "id": "1914294e",
   "metadata": {},
   "source": [
    "## Closure\n",
    "- closure란?\n",
    "-- 함수 안에 정의된 다른 함수\n",
    "-- 함수 내부의 반복되는 코드르 통합하기 위해 주로 사용\n",
    "-- 내부함수는 외부에서 호출 할 수 없다.\n",
    "<pre>\n",
    "def student(saying):\n",
    "    def inner(quote):\n",
    "        return\"우리는 '%s'학생들이다.\"%quote\n",
    "    return inner(saying)\n",
    "k = student('Master')\n",
    "print(k) #출력결과\n",
    "def student(saying):\n",
    "    def inner(kisu):\n",
    "        return '우리는 %s %s 학생들이다.'%(saying,kisu)\n",
    "    return inner\n",
    "scit = student('SCIT')   #값이 사라지지 않고 남는경우가 있다.\n",
    "swdo = student('SWDO')\n",
    "print(scit('42기'))      # 출력결과 : '우리는 scit 42기 학생들이다.'\n",
    "print(swdo('8기'))\n",
    "</pre>"
   ]
  },
  {
   "cell_type": "markdown",
   "id": "8512c50d",
   "metadata": {},
   "source": [
    "# 내부함수(지역함수)"
   ]
  },
  {
   "cell_type": "code",
   "execution_count": 55,
   "id": "53c418cc",
   "metadata": {},
   "outputs": [
    {
     "name": "stdout",
     "output_type": "stream",
     "text": [
      "11\n"
     ]
    }
   ],
   "source": [
    "def outer(a,b):\n",
    "    def inner(c,d):\n",
    "        return c+b\n",
    "    return inner(a,b) #내부함수의 실행 결과를 반환\n",
    "# return inner -> 내부함수의 참조값 반환 (내부함수 실행 x)\n",
    "\n",
    "print(outer(4,7))"
   ]
  },
  {
   "cell_type": "code",
   "execution_count": 57,
   "id": "108e87e3",
   "metadata": {},
   "outputs": [
    {
     "name": "stdout",
     "output_type": "stream",
     "text": [
      "우리는 SCIT 42기 학생들이다.\n",
      "우리는 SWDO 8기 학생들이다.\n"
     ]
    }
   ],
   "source": [
    "def student(saying):\n",
    "    def inner(kisu):\n",
    "        return '우리는 %s %s 학생들이다.'%(saying,kisu)\n",
    "    return inner\n",
    "scit = student('SCIT')\n",
    "swdo = student('SWDO')\n",
    "print(scit('42기'))\n",
    "print(swdo('8기'))"
   ]
  },
  {
   "cell_type": "markdown",
   "id": "caa1208d",
   "metadata": {},
   "source": [
    "## docstring\n",
    "- docstring이란?\n",
    "-- help()와 __doc__를 이용해 출력가능\n",
    "-- help()는 자세히 출력, __doc__ 는 dosctring만 출력"
   ]
  },
  {
   "cell_type": "code",
   "execution_count": 58,
   "id": "db03ea08",
   "metadata": {},
   "outputs": [
    {
     "name": "stdout",
     "output_type": "stream",
     "text": [
      "Help on built-in function print in module builtins:\n",
      "\n",
      "print(...)\n",
      "    print(value, ..., sep=' ', end='\\n', file=sys.stdout, flush=False)\n",
      "    \n",
      "    Prints the values to a stream, or to sys.stdout by default.\n",
      "    Optional keyword arguments:\n",
      "    file:  a file-like object (stream); defaults to the current sys.stdout.\n",
      "    sep:   string inserted between values, default a space.\n",
      "    end:   string appended after the last value, default a newline.\n",
      "    flush: whether to forcibly flush the stream.\n",
      "\n"
     ]
    }
   ],
   "source": [
    "help(print)\n",
    "#함수 모를때 이렇게 정보를 찾을수 있다."
   ]
  },
  {
   "cell_type": "markdown",
   "id": "9a15a140",
   "metadata": {},
   "source": [
    "## 표준 모듈\n",
    "외부모듈은 모두 import를 사용\n",
    "- import\n",
    "-- 모듈을 파이썬 코드를 작헝해 놓은 스크립트 파일\n",
    "-- 스크립트 파일 안에는 함수, 변수, 클래스 등이 정의되어있다\n",
    "-- 외부의 모듈을 가져와 사용할 때는 import 명령을 사용\n",
    "-- 모듈에 포함된 함수를 호출할 때는 함수명 앞에 모듈명을 붙임\n",
    "<pre>\n",
    "import math\n",
    "print(math.sqrt(2))\n",
    "</pre>\n",
    "-- 특정 함수나 클래스만 임포트 하조가 할때 다음 구문을 사용\n",
    "<pre>\n",
    "form 모듈 import 함수명, 클래스명\n",
    "</pre>\n",
    "-- 모듈의 모든 함수를 불러올 때는 함수명 자리에 * 문자를 사용\n",
    "-- 모듈의 이름이 길고 복잡할 때는 as 다음에 별칭을 지정할 수 있다.\n",
    "<pre>\n",
    "import math as m #많이사용 m.xxx등\n",
    "</pre>"
   ]
  },
  {
   "cell_type": "markdown",
   "id": "0803f7e2",
   "metadata": {},
   "source": [
    "# 표준 모듈\n",
    "- time 모듈\n",
    "-- 날짜와 시간 관련 기능을 제공\n",
    "<pre>\n",
    "import time\n",
    "t = time.time()\n",
    "print(t)\n",
    "print(time.ctime(t))\n",
    "</pre>\n",
    "- calendar 모듈\n",
    "-- calendar 함수는 인수로 받는 년도의 달력 객체를 반환\n",
    "-- month 함수는 년도와 달을 인수로 받은 해당 월의 달력 객체를 반환\n",
    "\n",
    "-random 모듈\n",
    "--난수를 생성하는 기능을 제공\n",
    "<pre>\n",
    "random() : 0에서 1 미만의 실수 생성\n",
    "randint(begin,end) : begin,end사이의 정수 난수 하나를 생성 (end 포함)\n",
    "randrange(begin,end) : begin,end사이의 정수 난수 하나를 생성 (end 제외)\n",
    "uniform(begin,end) : begin,end사이의 실수 난수 하나를 생성\n",
    "choice(list 객체) : 리스트 에서 임의의 요소를 하나 골라 리턴 (같은 값이 나올수있음)\n",
    "shuffle(list 객체) : 리스트 요소를 무작위로 섞는다.\n",
    "sample(list 객체, n) : 리스트 항목 중 n개를 무작위로 뽑아 새로운 리스트 만듬 (같은 값이 나올수 없음)\n",
    "</pre>"
   ]
  },
  {
   "cell_type": "markdown",
   "id": "8a6845e7",
   "metadata": {},
   "source": [
    "# 표준 모듈"
   ]
  },
  {
   "cell_type": "code",
   "execution_count": 60,
   "id": "78be3689",
   "metadata": {},
   "outputs": [
    {
     "name": "stdout",
     "output_type": "stream",
     "text": [
      "1668147737.017697\n",
      "Fri Nov 11 15:22:17 2022\n"
     ]
    }
   ],
   "source": [
    "import time\n",
    "\n",
    "t = time.time()\n",
    "print(t)\n",
    "print(time.ctime())"
   ]
  },
  {
   "cell_type": "code",
   "execution_count": 62,
   "id": "9c354f57",
   "metadata": {},
   "outputs": [
    {
     "name": "stdout",
     "output_type": "stream",
     "text": [
      "1~1억까지 합계 소요 시간은 :6.88초 \n"
     ]
    }
   ],
   "source": [
    "import time\n",
    "start = time.time()\n",
    "sum = 0\n",
    "for i in range(1,100000001):\n",
    "    sum += 1\n",
    "end = time.time()\n",
    "print('1~1억까지 합계 소요 시간은 :%.2f초 '%(end-start))"
   ]
  },
  {
   "cell_type": "code",
   "execution_count": 64,
   "id": "6bf84033",
   "metadata": {},
   "outputs": [
    {
     "name": "stdout",
     "output_type": "stream",
     "text": [
      "   November 2022\n",
      "Mo Tu We Th Fr Sa Su\n",
      "    1  2  3  4  5  6\n",
      " 7  8  9 10 11 12 13\n",
      "14 15 16 17 18 19 20\n",
      "21 22 23 24 25 26 27\n",
      "28 29 30\n",
      "\n"
     ]
    }
   ],
   "source": [
    "import calendar\n",
    "\n",
    "# print(calendar.calendar(2022))\n",
    "print(calendar.month(2022,11))"
   ]
  },
  {
   "cell_type": "code",
   "execution_count": 65,
   "id": "acf1e442",
   "metadata": {},
   "outputs": [
    {
     "name": "stdout",
     "output_type": "stream",
     "text": [
      "이 문장은\n",
      "2초 단위로\n",
      "출력됩니다.\n"
     ]
    }
   ],
   "source": [
    "import time\n",
    "\n",
    "print('이 문장은')\n",
    "time.sleep(2)\n",
    "print('2초 단위로')\n",
    "time.sleep(2)\n",
    "print('출력됩니다.')"
   ]
  },
  {
   "cell_type": "code",
   "execution_count": 94,
   "id": "1ea7c1a6",
   "metadata": {},
   "outputs": [
    {
     "name": "stdout",
     "output_type": "stream",
     "text": [
      "7\n",
      "6\n",
      "10\n",
      "4\n",
      "9\n"
     ]
    }
   ],
   "source": [
    "import random\n",
    "\n",
    "# random.seed(0) 값고정시킨다. 나온값들을\n",
    "for i in range(5):\n",
    "    print(random.randint(1,10))"
   ]
  },
  {
   "cell_type": "code",
   "execution_count": 109,
   "id": "408e6a81",
   "metadata": {},
   "outputs": [
    {
     "name": "stdout",
     "output_type": "stream",
     "text": [
      "['짬뽕', '군만두', '짜장면', '탕수육']\n"
     ]
    }
   ],
   "source": [
    "import random\n",
    "\n",
    "food = ['짜장면','짬뽕','탕수육','군만두']\n",
    "random.shuffle(food) #들어있는 list의 값의 순번을 바꾼다.\n",
    "print(food)"
   ]
  },
  {
   "cell_type": "markdown",
   "id": "f0883cb3",
   "metadata": {},
   "source": [
    "## [문제] 로또 번호 생성기\n",
    "- 1~46 사이의 숫자 6개 뽑기\n",
    "- "
   ]
  },
  {
   "cell_type": "code",
   "execution_count": 146,
   "id": "8fce78f6",
   "metadata": {},
   "outputs": [
    {
     "name": "stdout",
     "output_type": "stream",
     "text": [
      "[3, 10, 15, 37, 41, 45]\n"
     ]
    }
   ],
   "source": [
    "import random\n",
    "\n",
    "lotto = set() #원소의 중복을 허용하지 않는다.\n",
    "while True:\n",
    "    lotto.add(random.randint(1,46))\n",
    "    if len(lotto) == 6: break\n",
    "result = list(lotto)\n",
    "result.sort() #print 로 추렭하면 None 나옴 return값이 없기 때문에\n",
    "print(result)\n",
    " # print(sorted(list(lotto))) #정렬 후 list로 반환"
   ]
  },
  {
   "cell_type": "code",
   "execution_count": 154,
   "id": "120b645a",
   "metadata": {},
   "outputs": [
    {
     "name": "stdout",
     "output_type": "stream",
     "text": [
      "[3, 39, 7, 26, 13, 17]\n"
     ]
    }
   ],
   "source": [
    "import random\n",
    "\n",
    "lotto = random.sample(list(range(1,47)),6)\n",
    "print(lotto)"
   ]
  }
 ],
 "metadata": {
  "kernelspec": {
   "display_name": "Python 3 (ipykernel)",
   "language": "python",
   "name": "python3"
  },
  "language_info": {
   "codemirror_mode": {
    "name": "ipython",
    "version": 3
   },
   "file_extension": ".py",
   "mimetype": "text/x-python",
   "name": "python",
   "nbconvert_exporter": "python",
   "pygments_lexer": "ipython3",
   "version": "3.9.12"
  },
  "toc": {
   "base_numbering": 1,
   "nav_menu": {},
   "number_sections": true,
   "sideBar": true,
   "skip_h1_title": false,
   "title_cell": "Table of Contents",
   "title_sidebar": "Contents",
   "toc_cell": false,
   "toc_position": {},
   "toc_section_display": true,
   "toc_window_display": false
  }
 },
 "nbformat": 4,
 "nbformat_minor": 5
}
